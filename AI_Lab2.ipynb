{
  "nbformat": 4,
  "nbformat_minor": 0,
  "metadata": {
    "colab": {
      "name": "AI Lab2.ipynb",
      "provenance": [],
      "collapsed_sections": [],
      "include_colab_link": true
    },
    "kernelspec": {
      "name": "python3",
      "display_name": "Python 3"
    },
    "language_info": {
      "name": "python"
    }
  },
  "cells": [
    {
      "cell_type": "markdown",
      "metadata": {
        "id": "view-in-github",
        "colab_type": "text"
      },
      "source": [
        "<a href=\"https://colab.research.google.com/github/Kadigadi/ML/blob/patch-1/AI_Lab2.ipynb\" target=\"_parent\"><img src=\"https://colab.research.google.com/assets/colab-badge.svg\" alt=\"Open In Colab\"/></a>"
      ]
    },
    {
      "cell_type": "markdown",
      "metadata": {
        "id": "_GpYEHoitFxd"
      },
      "source": [
        "# Лабораторная работа №2\n",
        "### Прогнозирование временных рядов с помощью аппарата ИНС\n",
        "Подготовили: Поминова Алёна, Жарковский Никита, Цыганкова Елизавета \n",
        "\n",
        "TODO: удалить\n",
        "Источник http://www.bizkit.ru/2019/11/11/15143/"
      ]
    },
    {
      "cell_type": "code",
      "metadata": {
        "id": "PjG5W2vOf3O9"
      },
      "source": [
        "from google.colab import files \n",
        "import numpy as np\n",
        "import pandas as pd\n",
        "import os\n",
        "import matplotlib.pyplot as plt\n",
        "%matplotlib inline\n",
        "from tensorflow.keras import utils\n",
        "from tensorflow.keras.models import Sequential\n",
        "from tensorflow.keras.layers import Dense, Dropout, SpatialDropout1D, BatchNormalization, Embedding, Flatten, Activation, SimpleRNN\n",
        "from keras.preprocessing.text import Tokenizer, text_to_word_sequence\n",
        "from sklearn.model_selection import train_test_split\n",
        "from sklearn.preprocessing import StandardScaler\n",
        "import numpy as np\n",
        "from keras.layers.convolutional import Conv1D\n",
        "from keras.models import Sequential\n",
        "from keras.optimizers import Adam\n",
        "from keras.layers import Conv1D, Dense, MaxPool1D, Flatten, Input\n"
      ],
      "execution_count": 1,
      "outputs": []
    },
    {
      "cell_type": "code",
      "metadata": {
        "id": "-NMayhqvew5H",
        "colab": {
          "base_uri": "https://localhost:8080/",
          "height": 225
        },
        "outputId": "acb17acf-1780-40d9-f305-6aa575bff379"
      },
      "source": [
        "#Считываем данные с помощью pandas\n",
        "base_data = pd.read_csv('lab2.csv', sep=',')\n",
        "print(base_data.shape)\n",
        "\n",
        "#Выводим пять первых строк\n",
        "base_data.head()"
      ],
      "execution_count": 2,
      "outputs": [
        {
          "output_type": "stream",
          "text": [
            "(200, 7)\n"
          ],
          "name": "stdout"
        },
        {
          "output_type": "execute_result",
          "data": {
            "text/html": [
              "<div>\n",
              "<style scoped>\n",
              "    .dataframe tbody tr th:only-of-type {\n",
              "        vertical-align: middle;\n",
              "    }\n",
              "\n",
              "    .dataframe tbody tr th {\n",
              "        vertical-align: top;\n",
              "    }\n",
              "\n",
              "    .dataframe thead th {\n",
              "        text-align: right;\n",
              "    }\n",
              "</style>\n",
              "<table border=\"1\" class=\"dataframe\">\n",
              "  <thead>\n",
              "    <tr style=\"text-align: right;\">\n",
              "      <th></th>\n",
              "      <th>ti</th>\n",
              "      <th>f</th>\n",
              "      <th>empty</th>\n",
              "      <th>x1</th>\n",
              "      <th>x2</th>\n",
              "      <th>x3</th>\n",
              "      <th>y</th>\n",
              "    </tr>\n",
              "  </thead>\n",
              "  <tbody>\n",
              "    <tr>\n",
              "      <th>0</th>\n",
              "      <td>0.0</td>\n",
              "      <td>0.000000</td>\n",
              "      <td>NaN</td>\n",
              "      <td>0.000000</td>\n",
              "      <td>0.998334</td>\n",
              "      <td>1.986693</td>\n",
              "      <td>6.442177</td>\n",
              "    </tr>\n",
              "    <tr>\n",
              "      <th>1</th>\n",
              "      <td>0.1</td>\n",
              "      <td>0.998334</td>\n",
              "      <td>NaN</td>\n",
              "      <td>0.998334</td>\n",
              "      <td>1.986693</td>\n",
              "      <td>2.955202</td>\n",
              "      <td>7.173561</td>\n",
              "    </tr>\n",
              "    <tr>\n",
              "      <th>2</th>\n",
              "      <td>0.2</td>\n",
              "      <td>1.986693</td>\n",
              "      <td>NaN</td>\n",
              "      <td>1.986693</td>\n",
              "      <td>2.955202</td>\n",
              "      <td>3.894183</td>\n",
              "      <td>7.833269</td>\n",
              "    </tr>\n",
              "    <tr>\n",
              "      <th>3</th>\n",
              "      <td>0.3</td>\n",
              "      <td>2.955202</td>\n",
              "      <td>NaN</td>\n",
              "      <td>2.955202</td>\n",
              "      <td>3.894183</td>\n",
              "      <td>4.794255</td>\n",
              "      <td>8.414710</td>\n",
              "    </tr>\n",
              "    <tr>\n",
              "      <th>4</th>\n",
              "      <td>0.4</td>\n",
              "      <td>3.894183</td>\n",
              "      <td>NaN</td>\n",
              "      <td>3.894183</td>\n",
              "      <td>4.794255</td>\n",
              "      <td>5.646425</td>\n",
              "      <td>8.912074</td>\n",
              "    </tr>\n",
              "  </tbody>\n",
              "</table>\n",
              "</div>"
            ],
            "text/plain": [
              "    ti         f  empty        x1        x2        x3         y\n",
              "0  0.0  0.000000    NaN  0.000000  0.998334  1.986693  6.442177\n",
              "1  0.1  0.998334    NaN  0.998334  1.986693  2.955202  7.173561\n",
              "2  0.2  1.986693    NaN  1.986693  2.955202  3.894183  7.833269\n",
              "3  0.3  2.955202    NaN  2.955202  3.894183  4.794255  8.414710\n",
              "4  0.4  3.894183    NaN  3.894183  4.794255  5.646425  8.912074"
            ]
          },
          "metadata": {
            "tags": []
          },
          "execution_count": 2
        }
      ]
    },
    {
      "cell_type": "markdown",
      "metadata": {
        "id": "vnOGtNKGnSUh"
      },
      "source": [
        "# Подготовка данных"
      ]
    },
    {
      "cell_type": "code",
      "metadata": {
        "id": "prJxLlNmgMxc"
      },
      "source": [
        "#Загружаем выборку и делаем предобработку, убрав 3 первые колонки\n",
        "def getData(df):\n",
        "  data = df\n",
        "  return data.drop(columns=['ti', 'f', 'empty'], axis=1).astype(float)\n",
        "#Получаем данные из файла\n",
        "def getDataFromFile(fileName):\n",
        "  df = pd.read_csv(fileName, sep=',') #Считываем файл с помощью pandas\n",
        "  return getData(df) #Возвращаем считанные данные из файла"
      ],
      "execution_count": 3,
      "outputs": []
    },
    {
      "cell_type": "code",
      "metadata": {
        "colab": {
          "base_uri": "https://localhost:8080/"
        },
        "id": "yD2RTnk5gWmu",
        "outputId": "4251b2d5-00eb-4d18-95c2-23d24addf276"
      },
      "source": [
        "#Считываем данные из файла\n",
        "data = getDataFromFile('lab2.csv')\n",
        "print(data.head(5))\n",
        "print(data.shape)"
      ],
      "execution_count": 4,
      "outputs": [
        {
          "output_type": "stream",
          "text": [
            "         x1        x2        x3         y\n",
            "0  0.000000  0.998334  1.986693  6.442177\n",
            "1  0.998334  1.986693  2.955202  7.173561\n",
            "2  1.986693  2.955202  3.894183  7.833269\n",
            "3  2.955202  3.894183  4.794255  8.414710\n",
            "4  3.894183  4.794255  5.646425  8.912074\n",
            "(200, 4)\n"
          ],
          "name": "stdout"
        }
      ]
    },
    {
      "cell_type": "code",
      "metadata": {
        "colab": {
          "base_uri": "https://localhost:8080/",
          "height": 513
        },
        "id": "dubi1FfTg6wT",
        "outputId": "6436ed80-eb68-4d03-908b-4e90317751ad"
      },
      "source": [
        "#Отображаем исходные данные от точки start и длиной step\n",
        "start = 0 #С какой точки начинаем\n",
        "step = data.shape[0] #Сколько точек отрисуем\n",
        "#Заполняем текстовые названия каналов данных\n",
        "chanelNames = list(data.columns) # ['x1', 'x2', 'x3', 'x4', 'x5']\n",
        "#Рисуем все графики данных\n",
        "for i in range(3):\n",
        "  #Отрисовываем часть данных\n",
        "  #От начальной точки, до начальной точки + размер шага отрисовки\n",
        "  plt.plot(data.iloc[start:start+step, i], label=chanelNames[i])\n",
        "plt.legend()\n",
        "plt.show()\n",
        "#Канал y\n",
        "plt.plot(data.iloc[start:start+step, 3], label=\"y\")\n",
        "plt.legend()\n",
        "plt.show()"
      ],
      "execution_count": 5,
      "outputs": [
        {
          "output_type": "display_data",
          "data": {
            "image/png": "[encoded data removed]",
            "text/plain": [
              "<Figure size 432x288 with 1 Axes>"
            ]
          },
          "metadata": {
            "tags": [],
            "needs_background": "light"
          }
        },
        {
          "output_type": "display_data",
          "data": {
            "image/png": "[encoded data removed]",
            "text/plain": [
              "<Figure size 432x288 with 1 Axes>"
            ]
          },
          "metadata": {
            "tags": [],
            "needs_background": "light"
          }
        }
      ]
    },
    {
      "cell_type": "markdown",
      "metadata": {
        "id": "mkYta7gErnZo"
      },
      "source": [
        "# Проверка алгоритма подготовки данных"
      ]
    },
    {
      "cell_type": "code",
      "metadata": {
        "colab": {
          "base_uri": "https://localhost:8080/"
        },
        "id": "yP8vj-_qroQf",
        "outputId": "7bbb6ed9-716c-4401-bf91-3574e1b68985"
      },
      "source": [
        "num = 20 \n",
        "xData = np.arange(0, num).reshape(num,1)\n",
        "print(xData)\n",
        "stepsForward = 1\n",
        "xLen = 5\n",
        "xChannels = 0\n",
        "print(\"xData.shape\", xData.shape)\n",
        "print(\"Range:\", xData.shape[0] - xLen + 1 - stepsForward)"
      ],
      "execution_count": null,
      "outputs": [
        {
          "output_type": "stream",
          "text": [
            "[[ 0]\n",
            " [ 1]\n",
            " [ 2]\n",
            " [ 3]\n",
            " [ 4]\n",
            " [ 5]\n",
            " [ 6]\n",
            " [ 7]\n",
            " [ 8]\n",
            " [ 9]\n",
            " [10]\n",
            " [11]\n",
            " [12]\n",
            " [13]\n",
            " [14]\n",
            " [15]\n",
            " [16]\n",
            " [17]\n",
            " [18]\n",
            " [19]]\n",
            "xData.shape (20, 1)\n",
            "Range: 15\n"
          ],
          "name": "stdout"
        }
      ]
    },
    {
      "cell_type": "code",
      "metadata": {
        "colab": {
          "base_uri": "https://localhost:8080/"
        },
        "id": "8H74bCcQrrST",
        "outputId": "b5431733-983e-4183-d649-30697e721ea5"
      },
      "source": [
        "#Исходную последователность преобразуем в массив «раскусыванием»:\n",
        "\n",
        "xTrain = np.array([xData[i:i + xLen, xChannels] for i in range(xData.shape[0] - xLen + 1 - stepsForward)])\n",
        "print(\"xTrain.shape:\", xTrain.shape)\n",
        "print(\"xTrain:\\r\\n\", xTrain)"
      ],
      "execution_count": null,
      "outputs": [
        {
          "output_type": "stream",
          "text": [
            "xTrain.shape: (15, 5)\n",
            "xTrain:\r\n",
            " [[ 0  1  2  3  4]\n",
            " [ 1  2  3  4  5]\n",
            " [ 2  3  4  5  6]\n",
            " [ 3  4  5  6  7]\n",
            " [ 4  5  6  7  8]\n",
            " [ 5  6  7  8  9]\n",
            " [ 6  7  8  9 10]\n",
            " [ 7  8  9 10 11]\n",
            " [ 8  9 10 11 12]\n",
            " [ 9 10 11 12 13]\n",
            " [10 11 12 13 14]\n",
            " [11 12 13 14 15]\n",
            " [12 13 14 15 16]\n",
            " [13 14 15 16 17]\n",
            " [14 15 16 17 18]]\n"
          ],
          "name": "stdout"
        }
      ]
    },
    {
      "cell_type": "code",
      "metadata": {
        "colab": {
          "base_uri": "https://localhost:8080/"
        },
        "id": "nFcGwHzerzK8",
        "outputId": "a70bd43f-756c-4945-9e89-2ce30da7ce65"
      },
      "source": [
        "yChannels = [0]\n",
        "yData = xData\n",
        "if (stepsForward > 1):\n",
        "  yTrain = np.array([yData[i:i + stepsForward, yChannels] for i in range(xLen, yData.shape[0] + 1 - stepsForward)])\n",
        "else:\n",
        "  yTrain = np.array([yData[i, yChannels] for i in range(xLen, yData.shape[0] + 1 - stepsForward)])\n",
        "print(\"yTrain.shape\", yTrain.shape)\n",
        "print(\"yTrain:\\r\\n\", yTrain)  "
      ],
      "execution_count": null,
      "outputs": [
        {
          "output_type": "stream",
          "text": [
            "yTrain.shape (15, 1)\n",
            "yTrain:\r\n",
            " [[ 5]\n",
            " [ 6]\n",
            " [ 7]\n",
            " [ 8]\n",
            " [ 9]\n",
            " [10]\n",
            " [11]\n",
            " [12]\n",
            " [13]\n",
            " [14]\n",
            " [15]\n",
            " [16]\n",
            " [17]\n",
            " [18]\n",
            " [19]]\n"
          ],
          "name": "stdout"
        }
      ]
    },
    {
      "cell_type": "code",
      "metadata": {
        "colab": {
          "base_uri": "https://localhost:8080/"
        },
        "id": "cU8jygh8sBT7",
        "outputId": "de4b27c2-2ca6-4ab7-8cd0-c06a14b24c12"
      },
      "source": [
        "valLen = 3\n",
        "#Расчитываем отступ между обучающими о проверочными данными,  чтобы они не смешивались\n",
        "xTrainLen = xTrain.shape[0]\n",
        "bias = xLen + stepsForward + 2 #Выбрасываем bias записей. Небольшой резерв на 2 записи\n",
        "print(\"xTrainLen:\", xTrainLen)\n",
        "print(\"bias:\", bias)\n",
        "#Берём из конечной части xTrain проверочную выборку\n",
        "xVal = xTrain[xTrainLen-valLen:]\n",
        "yVal = yTrain[xTrainLen-valLen:]\n",
        "  \n",
        "print(\"xVal:\\r\\n\", xVal)\n",
        "print(\"yVal:\\r\\n\", yVal)"
      ],
      "execution_count": null,
      "outputs": [
        {
          "output_type": "stream",
          "text": [
            "xTrainLen: 15\n",
            "bias: 8\n",
            "xVal:\r\n",
            " [[12 13 14 15 16]\n",
            " [13 14 15 16 17]\n",
            " [14 15 16 17 18]]\n",
            "yVal:\r\n",
            " [[17]\n",
            " [18]\n",
            " [19]]\n"
          ],
          "name": "stdout"
        }
      ]
    },
    {
      "cell_type": "code",
      "metadata": {
        "colab": {
          "base_uri": "https://localhost:8080/"
        },
        "id": "IudZH5edsFHA",
        "outputId": "c4a00642-5324-4fcc-af71-f7e3cdcd63ad"
      },
      "source": [
        "#Оставшуюся часть используем под обучающую выборку\n",
        "xTrain1 = xTrain[:xTrainLen-valLen-bias]\n",
        "yTrain1 = yTrain[:xTrainLen-valLen-bias]\n",
        "print(\"xTrain:\\r\\n\", xTrain1)\n",
        "print(\"yTrain:\\r\\n\", yTrain1)"
      ],
      "execution_count": null,
      "outputs": [
        {
          "output_type": "stream",
          "text": [
            "xTrain:\r\n",
            " [[0 1 2 3 4]\n",
            " [1 2 3 4 5]\n",
            " [2 3 4 5 6]\n",
            " [3 4 5 6 7]]\n",
            "yTrain:\r\n",
            " [[5]\n",
            " [6]\n",
            " [7]\n",
            " [8]]\n"
          ],
          "name": "stdout"
        }
      ]
    },
    {
      "cell_type": "markdown",
      "metadata": {
        "id": "s2YK6W4JnZc1"
      },
      "source": [
        "# Код подготовки данных для временного ряда"
      ]
    },
    {
      "cell_type": "code",
      "metadata": {
        "id": "LlnLqpFim969"
      },
      "source": [
        "#data - Numpy array\n",
        "def DataNormalization(data, Channels, Normalization):\n",
        "  #Выбираем тип нормализации x\n",
        "  #0 - нормальное распределение\n",
        "  #1 - нормирование до отрезка 0-1\n",
        "  if (Normalization == 0):\n",
        "    scaler = StandardScaler()\n",
        "  else:\n",
        "    scaler = MinMaxScaler()\n",
        "  \n",
        "  #Берём только те каналы, которые указаны в аргументе функции\n",
        "  resData = data.iloc[:,Channels]\n",
        "  if (len(resData.shape) == 1): #Если размерность входного массива - одномерный вектор, \n",
        "    print(\"Add one dimension\")\n",
        "    resData = np.expand_dims(resData, axis=1) #то добавляем размерность\n",
        "  #Обучаем нормировщик\n",
        "  scaler.fit(resData)\n",
        "  #Нормируем данные\n",
        "  resData = scaler.transform(resData)\n",
        "  return (resData, scaler)"
      ],
      "execution_count": null,
      "outputs": []
    },
    {
      "cell_type": "code",
      "metadata": {
        "id": "zo7D0cCUnCDY"
      },
      "source": [
        "#Функция \"раскусывания\" данных для временных рядов\n",
        "#data - данные\n",
        "#xLen - размер фрема, по которому предсказываем\n",
        "#xChannels - лист, номера каналов, по которым делаем анализ\n",
        "#yChannels - лист, номера каналов, которые предсказываем\n",
        "#stepsForward - на сколько шагов предсказываем в будущее\n",
        "#если 1 - то на 1 шаг, можно использовать только при одном канале, указанном в yChannels\n",
        "#xNormalization - нормализация входных каналов, 0 - нормальное распределение, 1 - к отрезку [0;1]\n",
        "#yNormalization - нормализация прогнозируемых каналов, 0 - нормальное распределение, 1 - к отрезку [0;1]\n",
        "#returnFlatten - делать ли одномерный вектор на выходе для Dense сетей\n",
        "#valLen - сколько примеров брать для проверочной выборки (количество для обучающей посчитается автоматиески)\n",
        "#convertToDerivative - bool, преобразовывали ли входные сигналы в производнуюa\n",
        "def getXTrainFromTimeSeries(data, xLen, xChannels, yChannels, stepsForward, xNormalization, yNormalization, returnFlatten, valLen, convertToDerivative):\n",
        "  \n",
        "  #Если указано превращение данных в производную\n",
        "  #То вычитаем поточечно из текущей точки предыдущую\n",
        "  if (convertToDerivative):\n",
        "    data = np.array([(d[1:]-d[:-1]) for d in data.T]).copy().T\n",
        "  \n",
        "  #Нормализуем x\n",
        "  (xData, xScaler) = DataNormalization(data, xChannels, xNormalization)\n",
        "  #Нормализуем y\n",
        "  (yData, yScaler) = DataNormalization(data, yChannels, yNormalization)\n",
        "  #Формируем xTrain\n",
        "  #Раскусываем исходный ряд на куски xLen с шагом в 1\n",
        "  xTrain = np.array([xData[i:i + xLen, xChannels] for i in range(xData.shape[0] - xLen + 1 - stepsForward)])\n",
        "  \n",
        "  #Формируем yTrain\n",
        "  #Берём stepsForward шагов после завершения текущего x\n",
        "  if (stepsForward > 1):\n",
        "    yTrain = np.array([yData[i:i + stepsForward, yChannels] for i in range(xLen, yData.shape[0] + 1 - stepsForward)])\n",
        "  else:\n",
        "    yTrain = np.array([yData[i, yChannels] for i in range(xLen, yData.shape[0] + 1 - stepsForward)])\n",
        "  #Расчитываем отступ между обучающими о проверочными данными\n",
        "  #Чтобы они не смешивались\n",
        "  xTrainLen = xTrain.shape[0]\n",
        "  bias = xLen + stepsForward + 2\n",
        "  #Берём из конечной части xTrain проверочную выборку\n",
        "  xVal = xTrain[xTrainLen-valLen:]\n",
        "  yVal = yTrain[xTrainLen-valLen:]\n",
        "  \n",
        "  #Оставшуюся часть используем под обучающую выборку\n",
        "  xTrain = xTrain[:xTrainLen-valLen-bias]\n",
        "  yTrain = yTrain[:xTrainLen-valLen-bias]\n",
        "  #Если в функцию передали вернуть flatten сигнал (для Dense сети)\n",
        "  #xTrain и xVal превращаем в flatten\n",
        "  if (returnFlatten > 0):\n",
        "    xTrain = np.array([x.flatten() for x in xTrain])\n",
        "    xVal = np.array([x.flatten() for x in xVal])\n",
        "  return (xTrain, yTrain), (xVal, yVal), (xScaler, yScaler)"
      ],
      "execution_count": null,
      "outputs": []
    },
    {
      "cell_type": "code",
      "metadata": {
        "colab": {
          "base_uri": "https://localhost:8080/"
        },
        "id": "RipTlbJQnDSs",
        "outputId": "fea2e12d-35e5-4e7c-d824-69809b540a1e"
      },
      "source": [
        "#Формируем параметры загрузки данных\n",
        "xLen = 100\n",
        "stepsForward = 5\n",
        "xChannels = range(data.shape[1])\n",
        "yChannels = [0]\n",
        "xNormalization = 0\n",
        "yNormalization = 0\n",
        "valLen = 20\n",
        "returnFlatten = 0 #Возвращаем двумерные данные для свёртки\n",
        "convertToDerivative = 0\n",
        "#Загружаем данные\n",
        "(xTrain, yTrain), (xVal, yVal), (xScaler, yScaler) = getXTrainFromTimeSeries(data, xLen, xChannels, yChannels, stepsForward, xNormalization, yNormalization, returnFlatten, valLen, convertToDerivative)\n",
        "#Выводим размеры данных для проверки\n",
        "print(xTrain.shape)\n",
        "print(yTrain.shape)\n",
        "print(xVal.shape)\n",
        "print(yVal.shape)"
      ],
      "execution_count": null,
      "outputs": [
        {
          "output_type": "stream",
          "text": [
            "(65, 100, 4)\n",
            "(65, 5, 1)\n",
            "(20, 100, 4)\n",
            "(20, 5, 1)\n"
          ],
          "name": "stdout"
        }
      ]
    },
    {
      "cell_type": "code",
      "metadata": {
        "colab": {
          "base_uri": "https://localhost:8080/",
          "height": 945
        },
        "id": "Thxn90GGqB1U",
        "outputId": "67afa693-7fed-4ed1-ba84-27d2aae656ed"
      },
      "source": [
        "modelC = Sequential()\n",
        "modelC.add(Conv1D(50, 5, input_shape = (xTrain.shape[1], xTrain.shape[2]), activation=\"linear\"))\n",
        "modelC.add(Flatten())\n",
        "modelC.add(Dense(10, activation=\"linear\"))\n",
        "modelC.add(Dense(yTrain.shape[1], activation=\"linear\"))\n",
        "modelC.compile(loss=\"mse\", optimizer=Adam(lr=1e-4))\n",
        "history = modelC.fit(xTrain, \n",
        "                    yTrain, \n",
        "                    epochs=20, \n",
        "                    batch_size=20, \n",
        "                    verbose=1,\n",
        "                    validation_data=(xVal, yVal))\n",
        "plt.plot(history.history['loss'], \n",
        "         label='Средняя абсолютная ошибка на обучающем наборе')\n",
        "plt.plot(history.history['val_loss'], \n",
        "         label='Средняя абсолютная ошибка на проверочном наборе')\n",
        "plt.ylabel('Средняя ошибка')\n",
        "plt.legend()\n",
        "plt.show()"
      ],
      "execution_count": null,
      "outputs": [
        {
          "output_type": "stream",
          "text": [
            "Epoch 1/20\n",
            "4/4 [==============================] - 0s 53ms/step - loss: 1.1752 - val_loss: nan\n",
            "Epoch 2/20\n",
            "4/4 [==============================] - 0s 16ms/step - loss: 0.7345 - val_loss: nan\n",
            "Epoch 3/20\n",
            "4/4 [==============================] - 0s 16ms/step - loss: 0.5295 - val_loss: nan\n",
            "Epoch 4/20\n",
            "4/4 [==============================] - 0s 16ms/step - loss: 0.3097 - val_loss: nan\n",
            "Epoch 5/20\n",
            "4/4 [==============================] - 0s 15ms/step - loss: 0.1683 - val_loss: nan\n",
            "Epoch 6/20\n",
            "4/4 [==============================] - 0s 16ms/step - loss: 0.0858 - val_loss: nan\n",
            "Epoch 7/20\n",
            "4/4 [==============================] - 0s 16ms/step - loss: 0.0281 - val_loss: nan\n",
            "Epoch 8/20\n",
            "4/4 [==============================] - 0s 17ms/step - loss: 0.0081 - val_loss: nan\n",
            "Epoch 9/20\n",
            "4/4 [==============================] - 0s 17ms/step - loss: 0.0049 - val_loss: nan\n",
            "Epoch 10/20\n",
            "4/4 [==============================] - 0s 17ms/step - loss: 0.0073 - val_loss: nan\n",
            "Epoch 11/20\n",
            "4/4 [==============================] - 0s 17ms/step - loss: 0.0094 - val_loss: nan\n",
            "Epoch 12/20\n",
            "4/4 [==============================] - 0s 17ms/step - loss: 0.0096 - val_loss: nan\n",
            "Epoch 13/20\n",
            "4/4 [==============================] - 0s 18ms/step - loss: 0.0071 - val_loss: nan\n",
            "Epoch 14/20\n",
            "4/4 [==============================] - 0s 17ms/step - loss: 0.0038 - val_loss: nan\n",
            "Epoch 15/20\n",
            "4/4 [==============================] - 0s 16ms/step - loss: 0.0015 - val_loss: nan\n",
            "Epoch 16/20\n",
            "4/4 [==============================] - 0s 19ms/step - loss: 4.5243e-04 - val_loss: nan\n",
            "Epoch 17/20\n",
            "4/4 [==============================] - 0s 19ms/step - loss: 2.6292e-04 - val_loss: nan\n",
            "Epoch 18/20\n",
            "4/4 [==============================] - 0s 19ms/step - loss: 3.2786e-04 - val_loss: nan\n",
            "Epoch 19/20\n",
            "4/4 [==============================] - 0s 17ms/step - loss: 4.2143e-04 - val_loss: nan\n",
            "Epoch 20/20\n",
            "4/4 [==============================] - 0s 19ms/step - loss: 3.5416e-04 - val_loss: nan\n"
          ],
          "name": "stdout"
        },
        {
          "output_type": "display_data",
          "data": {
            "image/png": "[encoded data removed]",
            "text/plain": [
              "<Figure size 432x288 with 1 Axes>"
            ]
          },
          "metadata": {
            "tags": []
          }
        }
      ]
    },
    {
      "cell_type": "markdown",
      "metadata": {
        "id": "xvF0Mluxq2ZK"
      },
      "source": [
        "# Визуализация результатов"
      ]
    },
    {
      "cell_type": "code",
      "metadata": {
        "id": "Aj-w55nIq1A3"
      },
      "source": [
        "#Функция рассчитываем результаты прогнозирования сети\n",
        "#В аргументы принимает сеть (currModel) и проверочную выборку\n",
        "#Выдаёт результаты предсказания predVal\n",
        "#И правильные ответы в исходной размерности yValUnscaled (какими они были до нормирования)\n",
        "def getPred(currModel, xVal, yVal, yScaler):\n",
        "  #Предсказываем ответ сети по проверочной выборке\n",
        "  #И возвращаем исходны масштаб данных, до нормализации\n",
        "  predVal = yScaler.inverse_transform(currModel.predict(xVal))\n",
        "  yValUnscaled = yScaler.inverse_transform(yVal)\n",
        "  \n",
        "  return (predVal, yValUnscaled)\n",
        "#Функция расёта корреляции дух одномерных векторов\n",
        "def correlate(a, b):\n",
        "  return np.corrcoef(a, b)[0, 1] \n",
        "#Функция визуализирует графики, что предсказала сеть и какие были правильные ответы\n",
        "#start - точка с которой начинаем отрисовку графика\n",
        "#step - длина графика, которую отрисовываем\n",
        "#channel - какой канал отрисовываем\n",
        "def showPredict(start, step, channel, predVal, yValUnscaled):\n",
        "  plt.plot(predVal[start:start+step, channel], \n",
        "           label='Прогноз')\n",
        "  plt.plot(yValUnscaled[start:start+step, channel], \n",
        "           label='Базовый ряд')\n",
        "  plt.xlabel('Время')\n",
        "  plt.ylabel('Значение Close')\n",
        "  plt.legend()\n",
        "  plt.show()\n",
        "  \n",
        "#Функция рисуем корреляцию прогнозированного сигнала с правильным\n",
        "#Смещая на различное количество шагов назад\n",
        "#Для проверки появления эффекта автокорреляции\n",
        "#channels - по каким каналам отображать корреляцию\n",
        "#corrSteps - на какое количество шагов смещать сигнал назад для рассчёта корреляции\n",
        "def showCorr(channels, corrSteps, predVal, yValUnscaled):\n",
        "  #Проходим по всем каналам\n",
        "  for ch in channels:\n",
        "    corr = [] #Создаём пустой лист, в нём будут корреляции при смезении на i рагов обратно\n",
        "    yLen = yValUnscaled.shape[0] #Запоминаем размер проверочной выборки\n",
        "    #Постепенно увеличикаем шаг, насколько смещаем сигнал для проверки автокорреляции\n",
        "    for i in range(corrSteps):\n",
        "      #Получаем сигнал, смещённый на i шагов назад\n",
        "      #predVal[i:, ch]\n",
        "      #Сравниваем его с верными ответами, без смещения назад\n",
        "      #yValUnscaled[:yLen-i,ch]\n",
        "      #Рассчитываем их корреляцию и добавляем в лист\n",
        "      corr.append(correlate(yValUnscaled[:yLen-i,ch], predVal[i:, ch]))\n",
        "    #Отображаем график коррелций для данного шага\n",
        "    plt.plot(corr, label='предсказание на ' + str(ch+1) + ' шаг')\n",
        "  plt.xlabel('Время')\n",
        "  plt.ylabel('Значение')\n",
        "  plt.legend()\n",
        "  plt.show()"
      ],
      "execution_count": null,
      "outputs": []
    },
    {
      "cell_type": "code",
      "metadata": {
        "id": "g9M7RBxUq8d7"
      },
      "source": [
        "#Прогнозируем данные текущей сетью\n",
        "currModel = modelC\n",
        "(predVal, yValUnscaled) = getPred(currModel, xVal, yVal, yScaler)"
      ],
      "execution_count": null,
      "outputs": []
    },
    {
      "cell_type": "code",
      "metadata": {
        "colab": {
          "base_uri": "https://localhost:8080/",
          "height": 268
        },
        "id": "aILSe4C0rGEj",
        "outputId": "9ede5ba7-84b4-4693-dea0-7519c7b961e0"
      },
      "source": [
        "import matplotlib\n",
        "matplotlib.style.use('ggplot')\n",
        "plt.scatter(predVal, yValUnscaled)\n",
        "plt.show()"
      ],
      "execution_count": null,
      "outputs": [
        {
          "output_type": "display_data",
          "data": {
            "image/png": "[encoded data removed]",
            "text/plain": [
              "<Figure size 432x288 with 1 Axes>"
            ]
          },
          "metadata": {
            "tags": []
          }
        }
      ]
    }
  ]
}