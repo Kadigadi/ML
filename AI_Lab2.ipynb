{
  "nbformat": 4,
  "nbformat_minor": 0,
  "metadata": {
    "colab": {
      "name": "AI Lab2.ipynb",
      "provenance": [],
      "collapsed_sections": [],
      "include_colab_link": true
    },
    "kernelspec": {
      "name": "python3",
      "display_name": "Python 3"
    },
    "language_info": {
      "name": "python"
    }
  },
  "cells": [
    {
      "cell_type": "markdown",
      "metadata": {
        "id": "view-in-github",
        "colab_type": "text"
      },
      "source": [
        "<a href=\"https://colab.research.google.com/github/Kadigadi/ML/blob/patch-1/AI_Lab2.ipynb\" target=\"_parent\"><img src=\"https://colab.research.google.com/assets/colab-badge.svg\" alt=\"Open In Colab\"/></a>"
      ]
    },
    {
      "cell_type": "markdown",
      "metadata": {
        "id": "_GpYEHoitFxd"
      },
      "source": [
        "# Лабораторная работа №2\n",
        "### Прогнозирование временных рядов с помощью аппарата ИНС\n",
        "Подготовили: Поминова Алёна, Жарковский Никита, Цыганкова Елизавета \n",
        "\n",
        "TODO: удалить\n",
        "Источник http://www.bizkit.ru/2019/11/11/15143/"
      ]
    },
    {
      "cell_type": "code",
      "metadata": {
        "id": "PjG5W2vOf3O9"
      },
      "source": [
        "from google.colab import files \n",
        "import numpy as np\n",
        "import pandas as pd\n",
        "import os\n",
        "import matplotlib.pyplot as plt\n",
        "%matplotlib inline\n",
        "from tensorflow.keras import utils\n",
        "from tensorflow.keras.models import Sequential\n",
        "from tensorflow.keras.layers import Dense, Dropout, SpatialDropout1D, BatchNormalization, Embedding, Flatten, Activation, SimpleRNN\n",
        "from keras.preprocessing.text import Tokenizer, text_to_word_sequence\n",
        "from sklearn.model_selection import train_test_split\n",
        "from sklearn.preprocessing import StandardScaler\n",
        "import numpy as np\n",
        "from keras.layers.convolutional import Conv1D\n",
        "from keras.models import Sequential\n",
        "from keras.optimizers import Adam\n",
        "from keras.layers import Conv1D, Dense, MaxPool1D, Flatten, Input\n"
      ],
      "execution_count": 466,
      "outputs": []
    },
    {
      "cell_type": "code",
      "metadata": {
        "id": "-NMayhqvew5H",
        "colab": {
          "base_uri": "https://localhost:8080/",
          "height": 225
        },
        "outputId": "6361b14c-a98f-4916-d315-a18c5f68653e"
      },
      "source": [
        "#Считываем предварительно сгенрированные данные с помощью pandas\n",
        "base_data = pd.read_csv('lab2.csv', sep=',')\n",
        "print(base_data.shape)\n",
        "\n",
        "#Выводим пять первых строк\n",
        "base_data.head()"
      ],
      "execution_count": 467,
      "outputs": [
        {
          "output_type": "stream",
          "text": [
            "(200, 7)\n"
          ],
          "name": "stdout"
        },
        {
          "output_type": "execute_result",
          "data": {
            "text/html": [
              "<div>\n",
              "<style scoped>\n",
              "    .dataframe tbody tr th:only-of-type {\n",
              "        vertical-align: middle;\n",
              "    }\n",
              "\n",
              "    .dataframe tbody tr th {\n",
              "        vertical-align: top;\n",
              "    }\n",
              "\n",
              "    .dataframe thead th {\n",
              "        text-align: right;\n",
              "    }\n",
              "</style>\n",
              "<table border=\"1\" class=\"dataframe\">\n",
              "  <thead>\n",
              "    <tr style=\"text-align: right;\">\n",
              "      <th></th>\n",
              "      <th>ti</th>\n",
              "      <th>f</th>\n",
              "      <th>empty</th>\n",
              "      <th>x1</th>\n",
              "      <th>x2</th>\n",
              "      <th>x3</th>\n",
              "      <th>y</th>\n",
              "    </tr>\n",
              "  </thead>\n",
              "  <tbody>\n",
              "    <tr>\n",
              "      <th>0</th>\n",
              "      <td>0.0</td>\n",
              "      <td>0.000000</td>\n",
              "      <td>NaN</td>\n",
              "      <td>0.000000</td>\n",
              "      <td>0.998334</td>\n",
              "      <td>1.986693</td>\n",
              "      <td>6.442177</td>\n",
              "    </tr>\n",
              "    <tr>\n",
              "      <th>1</th>\n",
              "      <td>0.1</td>\n",
              "      <td>0.998334</td>\n",
              "      <td>NaN</td>\n",
              "      <td>0.998334</td>\n",
              "      <td>1.986693</td>\n",
              "      <td>2.955202</td>\n",
              "      <td>7.173561</td>\n",
              "    </tr>\n",
              "    <tr>\n",
              "      <th>2</th>\n",
              "      <td>0.2</td>\n",
              "      <td>1.986693</td>\n",
              "      <td>NaN</td>\n",
              "      <td>1.986693</td>\n",
              "      <td>2.955202</td>\n",
              "      <td>3.894183</td>\n",
              "      <td>7.833269</td>\n",
              "    </tr>\n",
              "    <tr>\n",
              "      <th>3</th>\n",
              "      <td>0.3</td>\n",
              "      <td>2.955202</td>\n",
              "      <td>NaN</td>\n",
              "      <td>2.955202</td>\n",
              "      <td>3.894183</td>\n",
              "      <td>4.794255</td>\n",
              "      <td>8.414710</td>\n",
              "    </tr>\n",
              "    <tr>\n",
              "      <th>4</th>\n",
              "      <td>0.4</td>\n",
              "      <td>3.894183</td>\n",
              "      <td>NaN</td>\n",
              "      <td>3.894183</td>\n",
              "      <td>4.794255</td>\n",
              "      <td>5.646425</td>\n",
              "      <td>8.912074</td>\n",
              "    </tr>\n",
              "  </tbody>\n",
              "</table>\n",
              "</div>"
            ],
            "text/plain": [
              "    ti         f  empty        x1        x2        x3         y\n",
              "0  0.0  0.000000    NaN  0.000000  0.998334  1.986693  6.442177\n",
              "1  0.1  0.998334    NaN  0.998334  1.986693  2.955202  7.173561\n",
              "2  0.2  1.986693    NaN  1.986693  2.955202  3.894183  7.833269\n",
              "3  0.3  2.955202    NaN  2.955202  3.894183  4.794255  8.414710\n",
              "4  0.4  3.894183    NaN  3.894183  4.794255  5.646425  8.912074"
            ]
          },
          "metadata": {
            "tags": []
          },
          "execution_count": 467
        }
      ]
    },
    {
      "cell_type": "markdown",
      "metadata": {
        "id": "vnOGtNKGnSUh"
      },
      "source": [
        "# Подготовка данных"
      ]
    },
    {
      "cell_type": "code",
      "metadata": {
        "id": "prJxLlNmgMxc"
      },
      "source": [
        "#Загружаем выборку и делаем предобработку, убрав 3 первые колонки\n",
        "def getData(df):\n",
        "  data = df\n",
        "  return data.drop(columns=['ti', 'f', 'empty'], axis=1).astype(float)\n",
        "#Получаем данные из файла\n",
        "def getDataFromFile(fileName):\n",
        "  df = pd.read_csv(fileName, sep=',') #Считываем файл с помощью pandas\n",
        "  return getData(df)                  #Возвращаем считанные данные из файла"
      ],
      "execution_count": 468,
      "outputs": []
    },
    {
      "cell_type": "code",
      "metadata": {
        "colab": {
          "base_uri": "https://localhost:8080/"
        },
        "id": "yD2RTnk5gWmu",
        "outputId": "e7c61e08-b899-4f60-b37c-40c3cf4f3205"
      },
      "source": [
        "#Считываем данные из файла\n",
        "data = getDataFromFile('lab2.csv')\n",
        "print(data.head(5))\n",
        "print(data.shape)\n",
        "print(data.tail(10))"
      ],
      "execution_count": 469,
      "outputs": [
        {
          "output_type": "stream",
          "text": [
            "         x1        x2        x3         y\n",
            "0  0.000000  0.998334  1.986693  6.442177\n",
            "1  0.998334  1.986693  2.955202  7.173561\n",
            "2  1.986693  2.955202  3.894183  7.833269\n",
            "3  2.955202  3.894183  4.794255  8.414710\n",
            "4  3.894183  4.794255  5.646425  8.912074\n",
            "(200, 4)\n",
            "           x1        x2        x3         y\n",
            "190  1.498772  2.478342  3.433149  7.515734\n",
            "191  2.478342  3.433149  4.353654  8.136737\n",
            "192  3.433149  4.353654  5.230658  8.676441\n",
            "193       NaN       NaN       NaN       NaN\n",
            "194       NaN       NaN       NaN       NaN\n",
            "195       NaN       NaN       NaN       NaN\n",
            "196       NaN       NaN       NaN       NaN\n",
            "197       NaN       NaN       NaN       NaN\n",
            "198       NaN       NaN       NaN       NaN\n",
            "199       NaN       NaN       NaN       NaN\n"
          ],
          "name": "stdout"
        }
      ]
    },
    {
      "cell_type": "code",
      "metadata": {
        "colab": {
          "base_uri": "https://localhost:8080/",
          "height": 363
        },
        "id": "lVaJs1ZbqTgO",
        "outputId": "0c26c367-fe9e-4425-a0d2-5ab8adfa4dfb"
      },
      "source": [
        "data = data[0:193]\n",
        "data.tail(10)"
      ],
      "execution_count": 470,
      "outputs": [
        {
          "output_type": "execute_result",
          "data": {
            "text/html": [
              "<div>\n",
              "<style scoped>\n",
              "    .dataframe tbody tr th:only-of-type {\n",
              "        vertical-align: middle;\n",
              "    }\n",
              "\n",
              "    .dataframe tbody tr th {\n",
              "        vertical-align: top;\n",
              "    }\n",
              "\n",
              "    .dataframe thead th {\n",
              "        text-align: right;\n",
              "    }\n",
              "</style>\n",
              "<table border=\"1\" class=\"dataframe\">\n",
              "  <thead>\n",
              "    <tr style=\"text-align: right;\">\n",
              "      <th></th>\n",
              "      <th>x1</th>\n",
              "      <th>x2</th>\n",
              "      <th>x3</th>\n",
              "      <th>y</th>\n",
              "    </tr>\n",
              "  </thead>\n",
              "  <tbody>\n",
              "    <tr>\n",
              "      <th>183</th>\n",
              "      <td>-5.223086</td>\n",
              "      <td>-4.345656</td>\n",
              "      <td>-3.424806</td>\n",
              "      <td>1.498772</td>\n",
              "    </tr>\n",
              "    <tr>\n",
              "      <th>184</th>\n",
              "      <td>-4.345656</td>\n",
              "      <td>-3.424806</td>\n",
              "      <td>-2.469737</td>\n",
              "      <td>2.478342</td>\n",
              "    </tr>\n",
              "    <tr>\n",
              "      <th>185</th>\n",
              "      <td>-3.424806</td>\n",
              "      <td>-2.469737</td>\n",
              "      <td>-1.489990</td>\n",
              "      <td>3.433149</td>\n",
              "    </tr>\n",
              "    <tr>\n",
              "      <th>186</th>\n",
              "      <td>-2.469737</td>\n",
              "      <td>-1.489990</td>\n",
              "      <td>-0.495356</td>\n",
              "      <td>4.353654</td>\n",
              "    </tr>\n",
              "    <tr>\n",
              "      <th>187</th>\n",
              "      <td>-1.489990</td>\n",
              "      <td>-0.495356</td>\n",
              "      <td>0.504227</td>\n",
              "      <td>5.230658</td>\n",
              "    </tr>\n",
              "    <tr>\n",
              "      <th>188</th>\n",
              "      <td>-0.495356</td>\n",
              "      <td>0.504227</td>\n",
              "      <td>1.498772</td>\n",
              "      <td>6.055399</td>\n",
              "    </tr>\n",
              "    <tr>\n",
              "      <th>189</th>\n",
              "      <td>0.504227</td>\n",
              "      <td>1.498772</td>\n",
              "      <td>2.478342</td>\n",
              "      <td>6.819636</td>\n",
              "    </tr>\n",
              "    <tr>\n",
              "      <th>190</th>\n",
              "      <td>1.498772</td>\n",
              "      <td>2.478342</td>\n",
              "      <td>3.433149</td>\n",
              "      <td>7.515734</td>\n",
              "    </tr>\n",
              "    <tr>\n",
              "      <th>191</th>\n",
              "      <td>2.478342</td>\n",
              "      <td>3.433149</td>\n",
              "      <td>4.353654</td>\n",
              "      <td>8.136737</td>\n",
              "    </tr>\n",
              "    <tr>\n",
              "      <th>192</th>\n",
              "      <td>3.433149</td>\n",
              "      <td>4.353654</td>\n",
              "      <td>5.230658</td>\n",
              "      <td>8.676441</td>\n",
              "    </tr>\n",
              "  </tbody>\n",
              "</table>\n",
              "</div>"
            ],
            "text/plain": [
              "           x1        x2        x3         y\n",
              "183 -5.223086 -4.345656 -3.424806  1.498772\n",
              "184 -4.345656 -3.424806 -2.469737  2.478342\n",
              "185 -3.424806 -2.469737 -1.489990  3.433149\n",
              "186 -2.469737 -1.489990 -0.495356  4.353654\n",
              "187 -1.489990 -0.495356  0.504227  5.230658\n",
              "188 -0.495356  0.504227  1.498772  6.055399\n",
              "189  0.504227  1.498772  2.478342  6.819636\n",
              "190  1.498772  2.478342  3.433149  7.515734\n",
              "191  2.478342  3.433149  4.353654  8.136737\n",
              "192  3.433149  4.353654  5.230658  8.676441"
            ]
          },
          "metadata": {
            "tags": []
          },
          "execution_count": 470
        }
      ]
    },
    {
      "cell_type": "code",
      "metadata": {
        "colab": {
          "base_uri": "https://localhost:8080/",
          "height": 513
        },
        "id": "dubi1FfTg6wT",
        "outputId": "ede788c6-ac90-4216-dc52-1873986c8ec3"
      },
      "source": [
        "#Отображаем исходные данные от точки start и длиной step\n",
        "start = 0 #С какой точки начинаем\n",
        "step = data.shape[0] #Сколько точек отрисуем\n",
        "#Заполняем текстовые названия каналов данных\n",
        "chanelNames = list(data.columns) # ['x1', 'x2', 'x3']\n",
        "#Рисуем все графики данных\n",
        "for i in range(3):\n",
        "  #Отрисовываем часть данных\n",
        "  #От начальной точки, до начальной точки + размер шага отрисовки\n",
        "  plt.plot(data.iloc[start:start+step, i], label=chanelNames[i])\n",
        "plt.legend()\n",
        "plt.show()\n",
        "#Канал y\n",
        "plt.plot(data.iloc[start:start+step, 3], label=\"y\")\n",
        "plt.legend()\n",
        "plt.show()"
      ],
      "execution_count": 471,
      "outputs": [
        {
          "output_type": "display_data",
          "data": {
            "image/png": "[encoded data removed]",
            "text/plain": [
              "<Figure size 432x288 with 1 Axes>"
            ]
          },
          "metadata": {
            "tags": [],
            "needs_background": "light"
          }
        },
        {
          "output_type": "display_data",
          "data": {
            "image/png": "[encoded data removed]",
            "text/plain": [
              "<Figure size 432x288 with 1 Axes>"
            ]
          },
          "metadata": {
            "tags": [],
            "needs_background": "light"
          }
        }
      ]
    },
    {
      "cell_type": "markdown",
      "metadata": {
        "id": "s2YK6W4JnZc1"
      },
      "source": [
        "# Код подготовки данных для временного ряда"
      ]
    },
    {
      "cell_type": "code",
      "metadata": {
        "id": "LlnLqpFim969"
      },
      "source": [
        "#data - Numpy array\n",
        "def DataNormalization(data, Channels, Normalization):\n",
        "  #Выбираем тип нормализации x\n",
        "  #0 - нормальное распределение\n",
        "  #1 - нормирование до отрезка 0-1\n",
        "  if (Normalization == 0):\n",
        "    scaler = StandardScaler()\n",
        "  else:\n",
        "    scaler = MinMaxScaler()\n",
        "  \n",
        "  #Берём только те каналы, которые указаны в аргументе функции\n",
        "  resData = data.iloc[:,Channels]\n",
        "  if (len(resData.shape) == 1): #Если размерность входного массива - одномерный вектор, \n",
        "    print(\"Add one dimension\")\n",
        "    resData = np.expand_dims(resData, axis=1) #то добавляем размерность\n",
        "  #Обучаем нормировщик\n",
        "  scaler.fit(resData)\n",
        "  #Нормируем данные\n",
        "  resData = scaler.transform(resData)\n",
        "  return (resData, scaler)"
      ],
      "execution_count": 472,
      "outputs": []
    },
    {
      "cell_type": "code",
      "metadata": {
        "id": "zo7D0cCUnCDY"
      },
      "source": [
        "#data - данные\n",
        "#xLen - размер фрема, по которому предсказываем\n",
        "#xChannels - лист, номера каналов, по которым делаем анализ\n",
        "#yChannels - лист, номера каналов, которые предсказываем\n",
        "#stepsForward - на сколько шагов предсказываем в будущее\n",
        "#если 1 - то на 1 шаг, можно использовать только при одном канале, указанном в yChannels\n",
        "#xNormalization, yNormalization - нормализация входных каналов, 0 - нормальное распределение, 1 - к отрезку [0;1]\n",
        "#valLen - сколько примеров брать для проверочной выборки (количество для обучающей посчитается автоматиески)\n",
        "def getXTrainFromTimeSeries(data, xLen , xChannels, yChannels, stepsForward, xNormalization, yNormalization, valLen):\n",
        "  #Нормализуем x\n",
        "  (xData, xScaler) = DataNormalization(data, xChannels, xNormalization)\n",
        "  #xData = np.array(data.iloc[:,xChannels]) # без нормализациии совсем плохо получается\n",
        "  #Нормализуем y\n",
        "  (yData, yScaler) = DataNormalization(data, yChannels, yNormalization)\n",
        "  #yData = np.array(data.iloc[:,yChannels])\n",
        "\n",
        "  #Формируем xTrain\n",
        "  #xTrain = np.array([xData[i:i + xLen, xChannels] for i in range(0, xData.shape[0] - xLen + 1, xLen)]) #Разбиваем исходный ряд на куски xLen с шагом xLen (без 'раскусывания', результат хуже)\n",
        "  xTrain = np.array([xData[i:i + xLen, xChannels] for i in range(xData.shape[0] - xLen + 1 - stepsForward)])  #Разбиваем исходный ряд на куски xLen с шагом 1\n",
        "  \n",
        "  #Формируем yTrain\n",
        "  #Берём stepsForward шагов после завершения текущего x\n",
        "  if (stepsForward > 1):\n",
        "    #yTrain = np.array([yData[i:i + xLen, [0]] for i in range(0, yData.shape[0] - xLen + 1, xLen)]) #с шагом xLen (без 'раскусывания', результат хуже)\n",
        "    yTrain = np.array([yData[i:i + stepsForward, [0]] for i in range(xLen, yData.shape[0] + 1 - stepsForward)]) #с шагом 1\n",
        "  else:\n",
        "    yTrain = np.array([yData[i, [0]] for i in range(xLen, yData.shape[0] + 1)]) #с шагом 1\n",
        "\n",
        "  #Расчитываем отступ между обучающими о проверочными данными\n",
        "  #Чтобы они не смешивались\n",
        "  xTrainLen = xTrain.shape[0]\n",
        "  bias = 1\n",
        "\n",
        "  #Берём из конечной части xTrain проверочную выборку\n",
        "  xVal = xTrain[xTrainLen-valLen:]\n",
        "  yVal = yTrain[xTrainLen-valLen:]\n",
        "  \n",
        "  #Оставшуюся часть используем под обучающую выборку\n",
        "  xTrain = xTrain[:xTrainLen-valLen-bias]\n",
        "  yTrain = yTrain[:xTrainLen-valLen-bias]\n",
        "\n",
        "  return (xTrain, yTrain), (xVal, yVal), (xScaler, yScaler)"
      ],
      "execution_count": 473,
      "outputs": []
    },
    {
      "cell_type": "code",
      "metadata": {
        "colab": {
          "base_uri": "https://localhost:8080/"
        },
        "id": "RipTlbJQnDSs",
        "outputId": "8c9ae716-bad1-4623-ba48-5d9a1ce643ba"
      },
      "source": [
        "#Формируем параметры загрузки данных\n",
        "xLen = 10\n",
        "stepsForward = 3 #4 #5\n",
        "xChannels = range(data.drop(['y'], axis=1, inplace=False).shape[1])\n",
        "yChannels = [3] #4 #5\n",
        "xNormalization = 0\n",
        "yNormalization = 0\n",
        "valLen = 20#round(data.shape[0]/xLen*0.2)\n",
        "\n",
        "#Загружаем данные\n",
        "(xTrain, yTrain), (xVal, yVal), (xScaler, yScaler) = getXTrainFromTimeSeries(data, xLen, xChannels, yChannels, stepsForward, xNormalization, yNormalization, valLen)\n",
        "\n",
        "#Выводим размеры данных для проверки\n",
        "print(xTrain.shape)\n",
        "print(yTrain.shape)\n",
        "print(xVal.shape)\n",
        "print(yVal.shape)"
      ],
      "execution_count": 482,
      "outputs": [
        {
          "output_type": "stream",
          "text": [
            "(160, 10, 3)\n",
            "(160, 3, 1)\n",
            "(20, 10, 3)\n",
            "(20, 3, 1)\n"
          ],
          "name": "stdout"
        }
      ]
    },
    {
      "cell_type": "code",
      "metadata": {
        "colab": {
          "base_uri": "https://localhost:8080/",
          "height": 1000
        },
        "id": "Thxn90GGqB1U",
        "outputId": "fda903f7-2257-4e24-d21c-50b5e320ae1d"
      },
      "source": [
        "modelC = Sequential()\n",
        "modelC.add(Conv1D(50, 5, input_shape = (xTrain.shape[1], xTrain.shape[2]), activation=\"linear\"))\n",
        "modelC.add(Flatten())\n",
        "modelC.add(Dense(10, activation=\"linear\"))\n",
        "modelC.add(Dense(yTrain.shape[1], activation=\"linear\"))\n",
        "modelC.compile(loss=\"mse\", optimizer=Adam(lr=1e-4))\n",
        "history = modelC.fit(xTrain, \n",
        "                    yTrain, \n",
        "                    epochs=50, \n",
        "                    batch_size=20, \n",
        "                    verbose=1,\n",
        "                    validation_data=(xVal, yVal))\n",
        "plt.plot(history.history['loss'], \n",
        "         label='Средняя абсолютная ошибка на обучающем наборе')\n",
        "plt.plot(history.history['val_loss'], \n",
        "         label='Средняя абсолютная ошибка на проверочном наборе')\n",
        "plt.ylabel('Средняя ошибка')\n",
        "plt.legend()\n",
        "plt.show()"
      ],
      "execution_count": 483,
      "outputs": [
        {
          "output_type": "stream",
          "text": [
            "Epoch 1/50\n",
            "8/8 [==============================] - 1s 25ms/step - loss: 1.2865 - val_loss: 0.6795\n",
            "Epoch 2/50\n",
            "8/8 [==============================] - 0s 7ms/step - loss: 1.1779 - val_loss: 0.5895\n",
            "Epoch 3/50\n",
            "8/8 [==============================] - 0s 7ms/step - loss: 0.9359 - val_loss: 0.5442\n",
            "Epoch 4/50\n",
            "8/8 [==============================] - 0s 7ms/step - loss: 0.9545 - val_loss: 0.5181\n",
            "Epoch 5/50\n",
            "8/8 [==============================] - 0s 7ms/step - loss: 0.8726 - val_loss: 0.4989\n",
            "Epoch 6/50\n",
            "8/8 [==============================] - 0s 7ms/step - loss: 0.8675 - val_loss: 0.4795\n",
            "Epoch 7/50\n",
            "8/8 [==============================] - 0s 6ms/step - loss: 0.7945 - val_loss: 0.4582\n",
            "Epoch 8/50\n",
            "8/8 [==============================] - 0s 7ms/step - loss: 0.7681 - val_loss: 0.4345\n",
            "Epoch 9/50\n",
            "8/8 [==============================] - 0s 8ms/step - loss: 0.7214 - val_loss: 0.4063\n",
            "Epoch 10/50\n",
            "8/8 [==============================] - 0s 7ms/step - loss: 0.6767 - val_loss: 0.3853\n",
            "Epoch 11/50\n",
            "8/8 [==============================] - 0s 7ms/step - loss: 0.6241 - val_loss: 0.3613\n",
            "Epoch 12/50\n",
            "8/8 [==============================] - 0s 7ms/step - loss: 0.5738 - val_loss: 0.3394\n",
            "Epoch 13/50\n",
            "8/8 [==============================] - 0s 7ms/step - loss: 0.5232 - val_loss: 0.3165\n",
            "Epoch 14/50\n",
            "8/8 [==============================] - 0s 7ms/step - loss: 0.5041 - val_loss: 0.2953\n",
            "Epoch 15/50\n",
            "8/8 [==============================] - 0s 7ms/step - loss: 0.4453 - val_loss: 0.2731\n",
            "Epoch 16/50\n",
            "8/8 [==============================] - 0s 8ms/step - loss: 0.4466 - val_loss: 0.2524\n",
            "Epoch 17/50\n",
            "8/8 [==============================] - 0s 7ms/step - loss: 0.3752 - val_loss: 0.2302\n",
            "Epoch 18/50\n",
            "8/8 [==============================] - 0s 7ms/step - loss: 0.3485 - val_loss: 0.2120\n",
            "Epoch 19/50\n",
            "8/8 [==============================] - 0s 7ms/step - loss: 0.3329 - val_loss: 0.1966\n",
            "Epoch 20/50\n",
            "8/8 [==============================] - 0s 7ms/step - loss: 0.2762 - val_loss: 0.1748\n",
            "Epoch 21/50\n",
            "8/8 [==============================] - 0s 7ms/step - loss: 0.2434 - val_loss: 0.1558\n",
            "Epoch 22/50\n",
            "8/8 [==============================] - 0s 7ms/step - loss: 0.2394 - val_loss: 0.1435\n",
            "Epoch 23/50\n",
            "8/8 [==============================] - 0s 7ms/step - loss: 0.2066 - val_loss: 0.1276\n",
            "Epoch 24/50\n",
            "8/8 [==============================] - 0s 7ms/step - loss: 0.1728 - val_loss: 0.1170\n",
            "Epoch 25/50\n",
            "8/8 [==============================] - 0s 7ms/step - loss: 0.1607 - val_loss: 0.1001\n",
            "Epoch 26/50\n",
            "8/8 [==============================] - 0s 7ms/step - loss: 0.1377 - val_loss: 0.0879\n",
            "Epoch 27/50\n",
            "8/8 [==============================] - 0s 7ms/step - loss: 0.1141 - val_loss: 0.0757\n",
            "Epoch 28/50\n",
            "8/8 [==============================] - 0s 8ms/step - loss: 0.1020 - val_loss: 0.0662\n",
            "Epoch 29/50\n",
            "8/8 [==============================] - 0s 7ms/step - loss: 0.0827 - val_loss: 0.0578\n",
            "Epoch 30/50\n",
            "8/8 [==============================] - 0s 7ms/step - loss: 0.0764 - val_loss: 0.0497\n",
            "Epoch 31/50\n",
            "8/8 [==============================] - 0s 7ms/step - loss: 0.0636 - val_loss: 0.0410\n",
            "Epoch 32/50\n",
            "8/8 [==============================] - 0s 8ms/step - loss: 0.0481 - val_loss: 0.0352\n",
            "Epoch 33/50\n",
            "8/8 [==============================] - 0s 9ms/step - loss: 0.0397 - val_loss: 0.0300\n",
            "Epoch 34/50\n",
            "8/8 [==============================] - 0s 8ms/step - loss: 0.0324 - val_loss: 0.0254\n",
            "Epoch 35/50\n",
            "8/8 [==============================] - 0s 8ms/step - loss: 0.0288 - val_loss: 0.0211\n",
            "Epoch 36/50\n",
            "8/8 [==============================] - 0s 9ms/step - loss: 0.0237 - val_loss: 0.0171\n",
            "Epoch 37/50\n",
            "8/8 [==============================] - 0s 8ms/step - loss: 0.0186 - val_loss: 0.0143\n",
            "Epoch 38/50\n",
            "8/8 [==============================] - 0s 7ms/step - loss: 0.0136 - val_loss: 0.0113\n",
            "Epoch 39/50\n",
            "8/8 [==============================] - 0s 8ms/step - loss: 0.0114 - val_loss: 0.0089\n",
            "Epoch 40/50\n",
            "8/8 [==============================] - 0s 8ms/step - loss: 0.0090 - val_loss: 0.0071\n",
            "Epoch 41/50\n",
            "8/8 [==============================] - 0s 9ms/step - loss: 0.0071 - val_loss: 0.0061\n",
            "Epoch 42/50\n",
            "8/8 [==============================] - 0s 9ms/step - loss: 0.0060 - val_loss: 0.0050\n",
            "Epoch 43/50\n",
            "8/8 [==============================] - 0s 8ms/step - loss: 0.0046 - val_loss: 0.0038\n",
            "Epoch 44/50\n",
            "8/8 [==============================] - 0s 9ms/step - loss: 0.0034 - val_loss: 0.0028\n",
            "Epoch 45/50\n",
            "8/8 [==============================] - 0s 8ms/step - loss: 0.0024 - val_loss: 0.0025\n",
            "Epoch 46/50\n",
            "8/8 [==============================] - 0s 8ms/step - loss: 0.0018 - val_loss: 0.0019\n",
            "Epoch 47/50\n",
            "8/8 [==============================] - 0s 7ms/step - loss: 0.0014 - val_loss: 0.0014\n",
            "Epoch 48/50\n",
            "8/8 [==============================] - 0s 8ms/step - loss: 0.0011 - val_loss: 0.0011\n",
            "Epoch 49/50\n",
            "8/8 [==============================] - 0s 8ms/step - loss: 8.5614e-04 - val_loss: 8.5450e-04\n",
            "Epoch 50/50\n",
            "8/8 [==============================] - 0s 8ms/step - loss: 6.6595e-04 - val_loss: 6.4798e-04\n"
          ],
          "name": "stdout"
        },
        {
          "output_type": "display_data",
          "data": {
            "image/png": "[encoded data removed]",
            "text/plain": [
              "<Figure size 432x288 with 1 Axes>"
            ]
          },
          "metadata": {
            "tags": []
          }
        }
      ]
    },
    {
      "cell_type": "markdown",
      "metadata": {
        "id": "xvF0Mluxq2ZK"
      },
      "source": [
        "# Визуализация результатов"
      ]
    },
    {
      "cell_type": "code",
      "metadata": {
        "id": "Aj-w55nIq1A3"
      },
      "source": [
        "#Функция рассчитываем результаты прогнозирования сети\n",
        "#В аргументы принимает сеть (currModel) и проверочную выборку\n",
        "#Выдаёт результаты предсказания predVal\n",
        "#И правильные ответы в исходной размерности yValUnscaled (какими они были до нормирования)\n",
        "def getPred(currModel, xVal, yVal, yScaler):\n",
        "  #Предсказываем ответ сети по проверочной выборке\n",
        "  #И возвращаем исходны масштаб данных, до нормализации\n",
        "  predVal = yScaler.inverse_transform(currModel.predict(xVal))\n",
        "  yValUnscaled = yScaler.inverse_transform(yVal)\n",
        "  \n",
        "  return (predVal, yValUnscaled)\n",
        "#Функция расёта корреляции дух одномерных векторов\n",
        "def correlate(a, b):\n",
        "  return np.corrcoef(a, b)[0, 1] \n",
        "#Функция визуализирует графики, что предсказала сеть и какие были правильные ответы\n",
        "#start - точка с которой начинаем отрисовку графика\n",
        "#step - длина графика, которую отрисовываем\n",
        "#channel - какой канал отрисовываем\n",
        "def showPredict(start, step, channel, predVal, yValUnscaled):\n",
        "  plt.plot(predVal[start:start+step, channel], \n",
        "           label='Прогноз')\n",
        "  plt.plot(yValUnscaled[start:start+step, channel], \n",
        "           label='Базовый ряд')\n",
        "  plt.xlabel('Время')\n",
        "  plt.ylabel('Значение Close')\n",
        "  plt.legend()\n",
        "  plt.show()\n",
        "  \n",
        "#Функция рисуем корреляцию прогнозированного сигнала с правильным\n",
        "#Смещая на различное количество шагов назад\n",
        "#Для проверки появления эффекта автокорреляции\n",
        "#channels - по каким каналам отображать корреляцию\n",
        "#corrSteps - на какое количество шагов смещать сигнал назад для рассчёта корреляции\n",
        "def showCorr(channels, corrSteps, predVal, yValUnscaled):\n",
        "  #Проходим по всем каналам\n",
        "  for ch in channels:\n",
        "    corr = [] #Создаём пустой лист, в нём будут корреляции при смезении на i рагов обратно\n",
        "    yLen = yValUnscaled.shape[0] #Запоминаем размер проверочной выборки\n",
        "    #Постепенно увеличикаем шаг, насколько смещаем сигнал для проверки автокорреляции\n",
        "    for i in range(corrSteps):\n",
        "      #Получаем сигнал, смещённый на i шагов назад\n",
        "      #predVal[i:, ch]\n",
        "      #Сравниваем его с верными ответами, без смещения назад\n",
        "      #yValUnscaled[:yLen-i,ch]\n",
        "      #Рассчитываем их корреляцию и добавляем в лист\n",
        "      corr.append(correlate(yValUnscaled[:yLen-i,ch], predVal[i:, ch]))\n",
        "    #Отображаем график коррелций для данного шага\n",
        "    plt.plot(corr, label='предсказание на ' + str(ch+1) + ' шаг')\n",
        "  plt.xlabel('Время')\n",
        "  plt.ylabel('Значение')\n",
        "  plt.legend()\n",
        "  plt.show()"
      ],
      "execution_count": 479,
      "outputs": []
    },
    {
      "cell_type": "code",
      "metadata": {
        "id": "g9M7RBxUq8d7",
        "colab": {
          "base_uri": "https://localhost:8080/"
        },
        "outputId": "c56d03cd-49bb-4c5b-c690-155c9431dbf3"
      },
      "source": [
        "#Прогнозируем данные текущей сетью\n",
        "currModel = modelC\n",
        "(predVal, yValUnscaled) = getPred(currModel, xVal, yVal, yScaler)"
      ],
      "execution_count": 480,
      "outputs": [
        {
          "output_type": "stream",
          "text": [
            "WARNING:tensorflow:11 out of the last 11 calls to <function Model.make_predict_function.<locals>.predict_function at 0x7f6905d6e950> triggered tf.function retracing. Tracing is expensive and the excessive number of tracings could be due to (1) creating @tf.function repeatedly in a loop, (2) passing tensors with different shapes, (3) passing Python objects instead of tensors. For (1), please define your @tf.function outside of the loop. For (2), @tf.function has experimental_relax_shapes=True option that relaxes argument shapes that can avoid unnecessary retracing. For (3), please refer to https://www.tensorflow.org/guide/function#controlling_retracing and https://www.tensorflow.org/api_docs/python/tf/function for  more details.\n"
          ],
          "name": "stdout"
        }
      ]
    },
    {
      "cell_type": "code",
      "metadata": {
        "colab": {
          "base_uri": "https://localhost:8080/",
          "height": 265
        },
        "id": "aILSe4C0rGEj",
        "outputId": "fc07b6fa-4a6d-4e76-b91f-9c89c3b8c35e"
      },
      "source": [
        "import matplotlib\n",
        "matplotlib.style.use('ggplot')\n",
        "plt.scatter(predVal, yValUnscaled)\n",
        "plt.show()"
      ],
      "execution_count": 481,
      "outputs": [
        {
          "output_type": "display_data",
          "data": {
            "image/png": "[encoded data removed]",
            "text/plain": [
              "<Figure size 432x288 with 1 Axes>"
            ]
          },
          "metadata": {
            "tags": []
          }
        }
      ]
    }
  ]
}