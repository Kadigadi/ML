{
  "nbformat": 4,
  "nbformat_minor": 0,
  "metadata": {
    "colab": {
      "name": "AI Lab2.ipynb",
      "provenance": [],
      "collapsed_sections": [],
      "include_colab_link": true
    },
    "kernelspec": {
      "name": "python3",
      "display_name": "Python 3"
    },
    "language_info": {
      "name": "python"
    }
  },
  "cells": [
    {
      "cell_type": "markdown",
      "metadata": {
        "id": "view-in-github",
        "colab_type": "text"
      },
      "source": [
        "<a href=\"https://colab.research.google.com/github/Kadigadi/ML/blob/patch-1/AI_Lab2.ipynb\" target=\"_parent\"><img src=\"https://colab.research.google.com/assets/colab-badge.svg\" alt=\"Open In Colab\"/></a>"
      ]
    },
    {
      "cell_type": "markdown",
      "metadata": {
        "id": "_GpYEHoitFxd"
      },
      "source": [
        "# Лабораторная работа №2\n",
        "### Прогнозирование временных рядов с помощью аппарата ИНС\n",
        "Подготовили: Поминова Алёна, Жарковский Никита, Цыганкова Елизавета \n",
        "\n",
        "TODO: удалить\n",
        "Источник http://www.bizkit.ru/2019/11/11/15143/"
      ]
    },
    {
      "cell_type": "code",
      "metadata": {
        "id": "PjG5W2vOf3O9"
      },
      "source": [
        "from google.colab import files \n",
        "import numpy as np\n",
        "import pandas as pd\n",
        "import os\n",
        "import matplotlib.pyplot as plt\n",
        "%matplotlib inline\n",
        "from tensorflow.keras import utils\n",
        "from tensorflow.keras.models import Sequential\n",
        "from tensorflow.keras.layers import Dense, Dropout, SpatialDropout1D, BatchNormalization, Embedding, Flatten, Activation, SimpleRNN\n",
        "from keras.preprocessing.text import Tokenizer, text_to_word_sequence\n",
        "from sklearn.model_selection import train_test_split\n",
        "from sklearn.preprocessing import StandardScaler\n",
        "import numpy as np\n",
        "from keras.layers.convolutional import Conv1D\n",
        "from keras.models import Sequential\n",
        "from keras.optimizers import Adam\n",
        "from keras.layers import Conv1D, Dense, MaxPool1D, Flatten, Input\n"
      ],
      "execution_count": 99,
      "outputs": []
    },
    {
      "cell_type": "code",
      "metadata": {
        "id": "-NMayhqvew5H",
        "colab": {
          "base_uri": "https://localhost:8080/",
          "height": 225
        },
        "outputId": "eb68d935-b79e-4eab-8c17-f2381bd157ea"
      },
      "source": [
        "#Считываем предварительно сгенрированные данные с помощью pandas\n",
        "base_data = pd.read_csv('lab2.csv', sep=',')\n",
        "print(base_data.shape)\n",
        "\n",
        "#Выводим пять первых строк\n",
        "base_data.head()"
      ],
      "execution_count": 100,
      "outputs": [
        {
          "output_type": "stream",
          "text": [
            "(200, 7)\n"
          ],
          "name": "stdout"
        },
        {
          "output_type": "execute_result",
          "data": {
            "text/html": [
              "<div>\n",
              "<style scoped>\n",
              "    .dataframe tbody tr th:only-of-type {\n",
              "        vertical-align: middle;\n",
              "    }\n",
              "\n",
              "    .dataframe tbody tr th {\n",
              "        vertical-align: top;\n",
              "    }\n",
              "\n",
              "    .dataframe thead th {\n",
              "        text-align: right;\n",
              "    }\n",
              "</style>\n",
              "<table border=\"1\" class=\"dataframe\">\n",
              "  <thead>\n",
              "    <tr style=\"text-align: right;\">\n",
              "      <th></th>\n",
              "      <th>ti</th>\n",
              "      <th>f</th>\n",
              "      <th>empty</th>\n",
              "      <th>x1</th>\n",
              "      <th>x2</th>\n",
              "      <th>x3</th>\n",
              "      <th>y</th>\n",
              "    </tr>\n",
              "  </thead>\n",
              "  <tbody>\n",
              "    <tr>\n",
              "      <th>0</th>\n",
              "      <td>0.0</td>\n",
              "      <td>0.000000</td>\n",
              "      <td>NaN</td>\n",
              "      <td>0.000000</td>\n",
              "      <td>0.998334</td>\n",
              "      <td>1.986693</td>\n",
              "      <td>6.442177</td>\n",
              "    </tr>\n",
              "    <tr>\n",
              "      <th>1</th>\n",
              "      <td>0.1</td>\n",
              "      <td>0.998334</td>\n",
              "      <td>NaN</td>\n",
              "      <td>0.998334</td>\n",
              "      <td>1.986693</td>\n",
              "      <td>2.955202</td>\n",
              "      <td>7.173561</td>\n",
              "    </tr>\n",
              "    <tr>\n",
              "      <th>2</th>\n",
              "      <td>0.2</td>\n",
              "      <td>1.986693</td>\n",
              "      <td>NaN</td>\n",
              "      <td>1.986693</td>\n",
              "      <td>2.955202</td>\n",
              "      <td>3.894183</td>\n",
              "      <td>7.833269</td>\n",
              "    </tr>\n",
              "    <tr>\n",
              "      <th>3</th>\n",
              "      <td>0.3</td>\n",
              "      <td>2.955202</td>\n",
              "      <td>NaN</td>\n",
              "      <td>2.955202</td>\n",
              "      <td>3.894183</td>\n",
              "      <td>4.794255</td>\n",
              "      <td>8.414710</td>\n",
              "    </tr>\n",
              "    <tr>\n",
              "      <th>4</th>\n",
              "      <td>0.4</td>\n",
              "      <td>3.894183</td>\n",
              "      <td>NaN</td>\n",
              "      <td>3.894183</td>\n",
              "      <td>4.794255</td>\n",
              "      <td>5.646425</td>\n",
              "      <td>8.912074</td>\n",
              "    </tr>\n",
              "  </tbody>\n",
              "</table>\n",
              "</div>"
            ],
            "text/plain": [
              "    ti         f  empty        x1        x2        x3         y\n",
              "0  0.0  0.000000    NaN  0.000000  0.998334  1.986693  6.442177\n",
              "1  0.1  0.998334    NaN  0.998334  1.986693  2.955202  7.173561\n",
              "2  0.2  1.986693    NaN  1.986693  2.955202  3.894183  7.833269\n",
              "3  0.3  2.955202    NaN  2.955202  3.894183  4.794255  8.414710\n",
              "4  0.4  3.894183    NaN  3.894183  4.794255  5.646425  8.912074"
            ]
          },
          "metadata": {
            "tags": []
          },
          "execution_count": 100
        }
      ]
    },
    {
      "cell_type": "markdown",
      "metadata": {
        "id": "vnOGtNKGnSUh"
      },
      "source": [
        "# Подготовка данных"
      ]
    },
    {
      "cell_type": "code",
      "metadata": {
        "id": "prJxLlNmgMxc"
      },
      "source": [
        "#Загружаем выборку и делаем предобработку, убрав 3 первые колонки\n",
        "def getData(df):\n",
        "  data = df\n",
        "  return data.drop(columns=['ti', 'f', 'empty'], axis=1).astype(float)\n",
        "#Получаем данные из файла\n",
        "def getDataFromFile(fileName):\n",
        "  df = pd.read_csv(fileName, sep=',') #Считываем файл с помощью pandas\n",
        "  return getData(df)                  #Возвращаем считанные данные из файла"
      ],
      "execution_count": 101,
      "outputs": []
    },
    {
      "cell_type": "code",
      "metadata": {
        "colab": {
          "base_uri": "https://localhost:8080/"
        },
        "id": "yD2RTnk5gWmu",
        "outputId": "003065a8-4184-4da6-9b09-b0c21d63bffa"
      },
      "source": [
        "#Считываем данные из файла\n",
        "data = getDataFromFile('lab2.csv')\n",
        "print(data.head(5))\n",
        "print(data.shape)\n",
        "print(data.tail(10))"
      ],
      "execution_count": 102,
      "outputs": [
        {
          "output_type": "stream",
          "text": [
            "         x1        x2        x3         y\n",
            "0  0.000000  0.998334  1.986693  6.442177\n",
            "1  0.998334  1.986693  2.955202  7.173561\n",
            "2  1.986693  2.955202  3.894183  7.833269\n",
            "3  2.955202  3.894183  4.794255  8.414710\n",
            "4  3.894183  4.794255  5.646425  8.912074\n",
            "(200, 4)\n",
            "           x1        x2        x3         y\n",
            "190  1.498772  2.478342  3.433149  7.515734\n",
            "191  2.478342  3.433149  4.353654  8.136737\n",
            "192  3.433149  4.353654  5.230658  8.676441\n",
            "193       NaN       NaN       NaN       NaN\n",
            "194       NaN       NaN       NaN       NaN\n",
            "195       NaN       NaN       NaN       NaN\n",
            "196       NaN       NaN       NaN       NaN\n",
            "197       NaN       NaN       NaN       NaN\n",
            "198       NaN       NaN       NaN       NaN\n",
            "199       NaN       NaN       NaN       NaN\n"
          ],
          "name": "stdout"
        }
      ]
    },
    {
      "cell_type": "code",
      "metadata": {
        "colab": {
          "base_uri": "https://localhost:8080/",
          "height": 363
        },
        "id": "lVaJs1ZbqTgO",
        "outputId": "8eb44466-307a-4b8c-c888-070f2f80e7ac"
      },
      "source": [
        "data = data[0:193]\n",
        "data.tail(10)"
      ],
      "execution_count": 103,
      "outputs": [
        {
          "output_type": "execute_result",
          "data": {
            "text/html": [
              "<div>\n",
              "<style scoped>\n",
              "    .dataframe tbody tr th:only-of-type {\n",
              "        vertical-align: middle;\n",
              "    }\n",
              "\n",
              "    .dataframe tbody tr th {\n",
              "        vertical-align: top;\n",
              "    }\n",
              "\n",
              "    .dataframe thead th {\n",
              "        text-align: right;\n",
              "    }\n",
              "</style>\n",
              "<table border=\"1\" class=\"dataframe\">\n",
              "  <thead>\n",
              "    <tr style=\"text-align: right;\">\n",
              "      <th></th>\n",
              "      <th>x1</th>\n",
              "      <th>x2</th>\n",
              "      <th>x3</th>\n",
              "      <th>y</th>\n",
              "    </tr>\n",
              "  </thead>\n",
              "  <tbody>\n",
              "    <tr>\n",
              "      <th>183</th>\n",
              "      <td>-5.223086</td>\n",
              "      <td>-4.345656</td>\n",
              "      <td>-3.424806</td>\n",
              "      <td>1.498772</td>\n",
              "    </tr>\n",
              "    <tr>\n",
              "      <th>184</th>\n",
              "      <td>-4.345656</td>\n",
              "      <td>-3.424806</td>\n",
              "      <td>-2.469737</td>\n",
              "      <td>2.478342</td>\n",
              "    </tr>\n",
              "    <tr>\n",
              "      <th>185</th>\n",
              "      <td>-3.424806</td>\n",
              "      <td>-2.469737</td>\n",
              "      <td>-1.489990</td>\n",
              "      <td>3.433149</td>\n",
              "    </tr>\n",
              "    <tr>\n",
              "      <th>186</th>\n",
              "      <td>-2.469737</td>\n",
              "      <td>-1.489990</td>\n",
              "      <td>-0.495356</td>\n",
              "      <td>4.353654</td>\n",
              "    </tr>\n",
              "    <tr>\n",
              "      <th>187</th>\n",
              "      <td>-1.489990</td>\n",
              "      <td>-0.495356</td>\n",
              "      <td>0.504227</td>\n",
              "      <td>5.230658</td>\n",
              "    </tr>\n",
              "    <tr>\n",
              "      <th>188</th>\n",
              "      <td>-0.495356</td>\n",
              "      <td>0.504227</td>\n",
              "      <td>1.498772</td>\n",
              "      <td>6.055399</td>\n",
              "    </tr>\n",
              "    <tr>\n",
              "      <th>189</th>\n",
              "      <td>0.504227</td>\n",
              "      <td>1.498772</td>\n",
              "      <td>2.478342</td>\n",
              "      <td>6.819636</td>\n",
              "    </tr>\n",
              "    <tr>\n",
              "      <th>190</th>\n",
              "      <td>1.498772</td>\n",
              "      <td>2.478342</td>\n",
              "      <td>3.433149</td>\n",
              "      <td>7.515734</td>\n",
              "    </tr>\n",
              "    <tr>\n",
              "      <th>191</th>\n",
              "      <td>2.478342</td>\n",
              "      <td>3.433149</td>\n",
              "      <td>4.353654</td>\n",
              "      <td>8.136737</td>\n",
              "    </tr>\n",
              "    <tr>\n",
              "      <th>192</th>\n",
              "      <td>3.433149</td>\n",
              "      <td>4.353654</td>\n",
              "      <td>5.230658</td>\n",
              "      <td>8.676441</td>\n",
              "    </tr>\n",
              "  </tbody>\n",
              "</table>\n",
              "</div>"
            ],
            "text/plain": [
              "           x1        x2        x3         y\n",
              "183 -5.223086 -4.345656 -3.424806  1.498772\n",
              "184 -4.345656 -3.424806 -2.469737  2.478342\n",
              "185 -3.424806 -2.469737 -1.489990  3.433149\n",
              "186 -2.469737 -1.489990 -0.495356  4.353654\n",
              "187 -1.489990 -0.495356  0.504227  5.230658\n",
              "188 -0.495356  0.504227  1.498772  6.055399\n",
              "189  0.504227  1.498772  2.478342  6.819636\n",
              "190  1.498772  2.478342  3.433149  7.515734\n",
              "191  2.478342  3.433149  4.353654  8.136737\n",
              "192  3.433149  4.353654  5.230658  8.676441"
            ]
          },
          "metadata": {
            "tags": []
          },
          "execution_count": 103
        }
      ]
    },
    {
      "cell_type": "code",
      "metadata": {
        "colab": {
          "base_uri": "https://localhost:8080/",
          "height": 513
        },
        "id": "dubi1FfTg6wT",
        "outputId": "2804ccee-bfe5-4d5f-dd17-b42a5a529bcc"
      },
      "source": [
        "#Отображаем исходные данные от точки start и длиной step\n",
        "start = 0 #С какой точки начинаем\n",
        "step = data.shape[0] #Сколько точек отрисуем\n",
        "#Заполняем текстовые названия каналов данных\n",
        "chanelNames = list(data.columns) # ['x1', 'x2', 'x3']\n",
        "#Рисуем все графики данных\n",
        "for i in range(3):\n",
        "  #Отрисовываем часть данных\n",
        "  #От начальной точки, до начальной точки + размер шага отрисовки\n",
        "  plt.plot(data.iloc[start:start+step, i], label=chanelNames[i])\n",
        "plt.legend()\n",
        "plt.show()\n",
        "#Канал y\n",
        "plt.plot(data.iloc[start:start+step, 3], label=\"y\")\n",
        "plt.legend()\n",
        "plt.show()"
      ],
      "execution_count": 104,
      "outputs": [
        {
          "output_type": "display_data",
          "data": {
            "image/png": "[encoded data removed]",
            "text/plain": [
              "<Figure size 432x288 with 1 Axes>"
            ]
          },
          "metadata": {
            "tags": [],
            "needs_background": "light"
          }
        },
        {
          "output_type": "display_data",
          "data": {
            "image/png": "[encoded data removed]",
            "text/plain": [
              "<Figure size 432x288 with 1 Axes>"
            ]
          },
          "metadata": {
            "tags": [],
            "needs_background": "light"
          }
        }
      ]
    },
    {
      "cell_type": "markdown",
      "metadata": {
        "id": "s2YK6W4JnZc1"
      },
      "source": [
        "# Код подготовки данных для временного ряда"
      ]
    },
    {
      "cell_type": "code",
      "metadata": {
        "id": "LlnLqpFim969"
      },
      "source": [
        "#data - Numpy array\n",
        "def DataNormalization(data, Channels, Normalization):\n",
        "  #Выбираем тип нормализации x\n",
        "  #0 - нормальное распределение\n",
        "  #1 - нормирование до отрезка 0-1\n",
        "  if (Normalization == 0):\n",
        "    scaler = StandardScaler()\n",
        "  else:\n",
        "    scaler = MinMaxScaler()\n",
        "  \n",
        "  #Берём только те каналы, которые указаны в аргументе функции\n",
        "  resData = data.iloc[:,Channels]\n",
        "  if (len(resData.shape) == 1): #Если размерность входного массива - одномерный вектор, \n",
        "    print(\"Add one dimension\")\n",
        "    resData = np.expand_dims(resData, axis=1) #то добавляем размерность\n",
        "  #Обучаем нормировщик\n",
        "  scaler.fit(resData)\n",
        "  #Нормируем данные\n",
        "  resData = scaler.transform(resData)\n",
        "  return (resData, scaler)"
      ],
      "execution_count": 105,
      "outputs": []
    },
    {
      "cell_type": "code",
      "metadata": {
        "id": "zo7D0cCUnCDY"
      },
      "source": [
        "#data - данные\n",
        "#xLen - размер фрема, по которому предсказываем\n",
        "#xChannels - лист, номера каналов, по которым делаем анализ\n",
        "#yChannels - лист, номера каналов, которые предсказываем\n",
        "#stepsForward - на сколько шагов предсказываем в будущее\n",
        "#если 1 - то на 1 шаг, можно использовать только при одном канале, указанном в yChannels\n",
        "#xNormalization, yNormalization - нормализация входных каналов, 0 - нормальное распределение, 1 - к отрезку [0;1]\n",
        "#returnFlatten - делать ли одномерный вектор на выходе для Dense сетей\n",
        "#valLen - сколько примеров брать для проверочной выборки (количество для обучающей посчитается автоматиески)\n",
        "def getXTrainFromTimeSeries(data, xLen , xChannels, yChannels, stepsForward, xNormalization, yNormalization, returnFlatten, valLen):\n",
        "  #Нормализуем x\n",
        "  (xData, xScaler) = DataNormalization(data, xChannels, xNormalization)\n",
        "  #Нормализуем y\n",
        "  (yData, yScaler) = DataNormalization(data, yChannels, yNormalization)\n",
        "\n",
        "  #Формируем xTrain\n",
        "  #Раскусываем исходный ряд на куски xLen с шагом в 1\n",
        "  #xTrain = np.array([xData[i:i + xLen, xChannels] for i in range(xData.shape[0] - xLen + 1 - stepsForward)])\n",
        "  #xTrain = np.array(xData)\n",
        "  xTrain = np.array([xData[i:i + xLen, xChannels] for i in range(xData.shape[0] - xLen + 1 - stepsForward)])\n",
        "  \n",
        "  #Формируем yTrain\n",
        "  #Берём stepsForward шагов после завершения текущего x\n",
        "  if (stepsForward > 1):\n",
        "    yTrain = np.array([yData[i:i + stepsForward, [0]] for i in range(xLen, yData.shape[0] + 1 - stepsForward)])\n",
        "    #yTrain = np.array(yData)\n",
        "  else:\n",
        "    yTrain = np.array([yData[i, [0]] for i in range(xLen, yData.shape[0] + 1 - stepsForward)])\n",
        "    #yTrain = np.array(yData)\n",
        "  #Расчитываем отступ между обучающими о проверочными данными\n",
        "  #Чтобы они не смешивались\n",
        "  xTrainLen = xTrain.shape[0]\n",
        "  bias = xLen + stepsForward + 2\n",
        "\n",
        "  #Берём из конечной части xTrain проверочную выборку\n",
        "  xVal = xTrain[xTrainLen-valLen:]\n",
        "  yVal = yTrain[xTrainLen-valLen:]\n",
        "  \n",
        "  #Оставшуюся часть используем под обучающую выборку\n",
        "  xTrain = xTrain[:xTrainLen-valLen-bias]\n",
        "  yTrain = yTrain[:xTrainLen-valLen-bias]\n",
        "  #Если в функцию передали вернуть flatten сигнал (для Dense сети)\n",
        "  #xTrain и xVal превращаем в flatten\n",
        "  if (returnFlatten > 0):\n",
        "    xTrain = np.array([x.flatten() for x in xTrain])\n",
        "    xVal = np.array([x.flatten() for x in xVal])\n",
        "  return (xTrain, yTrain), (xVal, yVal), (xScaler, yScaler)"
      ],
      "execution_count": 106,
      "outputs": []
    },
    {
      "cell_type": "code",
      "metadata": {
        "colab": {
          "base_uri": "https://localhost:8080/"
        },
        "id": "RipTlbJQnDSs",
        "outputId": "28fe800e-3340-47a8-9350-eb0b45126f75"
      },
      "source": [
        "#Формируем параметры загрузки данных\n",
        "xLen = 100\n",
        "stepsForward = 3 #4 #5\n",
        "xChannels = range(data.drop(['y'], axis=1, inplace=False).shape[1])\n",
        "yChannels = [3] #4 #5\n",
        "xNormalization = 0\n",
        "yNormalization = 0\n",
        "valLen = 20\n",
        "returnFlatten = 0 #Возвращаем двумерные данные для свёртки\n",
        "\n",
        "#Загружаем данные\n",
        "(xTrain, yTrain), (xVal, yVal), (xScaler, yScaler) = getXTrainFromTimeSeries(data, xLen, xChannels, yChannels, stepsForward, xNormalization, yNormalization, returnFlatten, valLen)\n",
        "\n",
        "#Выводим размеры данных для проверки\n",
        "print(xTrain.shape)\n",
        "print(yTrain.shape)\n",
        "print(xVal.shape)\n",
        "print(yVal.shape)"
      ],
      "execution_count": 107,
      "outputs": [
        {
          "output_type": "stream",
          "text": [
            "(57, 100, 3)\n",
            "(57, 3, 1)\n",
            "(20, 100, 3)\n",
            "(20, 3, 1)\n"
          ],
          "name": "stdout"
        }
      ]
    },
    {
      "cell_type": "code",
      "metadata": {
        "colab": {
          "base_uri": "https://localhost:8080/"
        },
        "id": "LIifjzJhXXoP",
        "outputId": "948c00dd-d75d-4ba3-d093-8abf8e033c02"
      },
      "source": [
        "xVal"
      ],
      "execution_count": 108,
      "outputs": [
        {
          "output_type": "execute_result",
          "data": {
            "text/plain": [
              "array([[[ 1.03628221,  1.12444274,  1.20075013],\n",
              "        [ 1.12876832,  1.20551354,  1.26959252],\n",
              "        [ 1.20991851,  1.27444948,  1.32562865],\n",
              "        ...,\n",
              "        [-1.27453475, -1.33585653, -1.38319792],\n",
              "        [-1.3339399 , -1.38194591, -1.4155252 ],\n",
              "        [-1.38007442, -1.41431713, -1.43382993]],\n",
              "\n",
              "       [[ 1.12876832,  1.20551354,  1.26959252],\n",
              "        [ 1.20991851,  1.27444948,  1.32562865],\n",
              "        [ 1.27892194,  1.33056177,  1.36829864],\n",
              "        ...,\n",
              "        [-1.3339399 , -1.38194591, -1.4155252 ],\n",
              "        [-1.38007442, -1.41431713, -1.43382993],\n",
              "        [-1.41247733, -1.43264673, -1.43792921]],\n",
              "\n",
              "       [[ 1.20991851,  1.27444948,  1.32562865],\n",
              "        [ 1.27892194,  1.33056177,  1.36829864],\n",
              "        [ 1.33508917,  1.37328974,  1.39717613],\n",
              "        ...,\n",
              "        [-1.38007442, -1.41431713, -1.43382993],\n",
              "        [-1.41247733, -1.43264673, -1.43792921],\n",
              "        [-1.43082488, -1.43675158, -1.42778207]],\n",
              "\n",
              "       ...,\n",
              "\n",
              "       [[ 0.83036199,  0.70651691,  0.57564252],\n",
              "        [ 0.71043329,  0.57955646,  0.44298183],\n",
              "        [ 0.58334853,  0.44671549,  0.30577411],\n",
              "        ...,\n",
              "        [-0.49534092, -0.36168546, -0.22459547],\n",
              "        [-0.35881499, -0.22176901, -0.08274572],\n",
              "        [-0.21876154, -0.07972649,  0.0598099 ]],\n",
              "\n",
              "       [[ 0.71043329,  0.57955646,  0.44298183],\n",
              "        [ 0.58334853,  0.44671549,  0.30577411],\n",
              "        [ 0.45037749,  0.30932131,  0.16539029],\n",
              "        ...,\n",
              "        [-0.35881499, -0.22176901, -0.08274572],\n",
              "        [-0.21876154, -0.07972649,  0.0598099 ],\n",
              "        [-0.07657995,  0.06302285,  0.20164701]],\n",
              "\n",
              "       [[ 0.58334853,  0.44671549,  0.30577411],\n",
              "        [ 0.45037749,  0.30932131,  0.16539029],\n",
              "        [ 0.31284878,  0.16874672,  0.02323304],\n",
              "        ...,\n",
              "        [-0.21876154, -0.07972649,  0.0598099 ],\n",
              "        [-0.07657995,  0.06302285,  0.20164701],\n",
              "        [ 0.06630916,  0.20505271,  0.34134842]]])"
            ]
          },
          "metadata": {
            "tags": []
          },
          "execution_count": 108
        }
      ]
    },
    {
      "cell_type": "code",
      "metadata": {
        "colab": {
          "base_uri": "https://localhost:8080/",
          "height": 1000
        },
        "id": "Thxn90GGqB1U",
        "outputId": "582fac2d-0d19-4cec-d221-23cd856f0b1b"
      },
      "source": [
        "modelC = Sequential()\n",
        "modelC.add(Conv1D(50, 5, input_shape = (xTrain.shape[1], xTrain.shape[2]), activation=\"linear\"))\n",
        "modelC.add(Flatten())\n",
        "modelC.add(Dense(10, activation=\"linear\"))\n",
        "modelC.add(Dense(yTrain.shape[1], activation=\"linear\"))\n",
        "modelC.compile(loss=\"mse\", optimizer=Adam(lr=1e-4))\n",
        "history = modelC.fit(xTrain, \n",
        "                    yTrain, \n",
        "                    epochs=20, \n",
        "                    batch_size=20, \n",
        "                    verbose=1,\n",
        "                    validation_data=(xVal, yVal))\n",
        "plt.plot(history.history['loss'], \n",
        "         label='Средняя абсолютная ошибка на обучающем наборе')\n",
        "plt.plot(history.history['val_loss'], \n",
        "         label='Средняя абсолютная ошибка на проверочном наборе')\n",
        "plt.ylabel('Средняя ошибка')\n",
        "plt.legend()\n",
        "plt.show()"
      ],
      "execution_count": 109,
      "outputs": [
        {
          "output_type": "stream",
          "text": [
            "Epoch 1/20\n",
            "3/3 [==============================] - 1s 79ms/step - loss: 0.5722 - val_loss: 0.1905\n",
            "Epoch 2/20\n",
            "3/3 [==============================] - 0s 21ms/step - loss: 0.2602 - val_loss: 0.0950\n",
            "Epoch 3/20\n",
            "3/3 [==============================] - 0s 21ms/step - loss: 0.1006 - val_loss: 0.0471\n",
            "Epoch 4/20\n",
            "3/3 [==============================] - 0s 21ms/step - loss: 0.0388 - val_loss: 0.0113\n",
            "Epoch 5/20\n",
            "3/3 [==============================] - 0s 26ms/step - loss: 0.0126 - val_loss: 0.0072\n",
            "Epoch 6/20\n",
            "3/3 [==============================] - 0s 22ms/step - loss: 0.0165 - val_loss: 0.0217\n",
            "Epoch 7/20\n",
            "3/3 [==============================] - 0s 25ms/step - loss: 0.0326 - val_loss: 0.0306\n",
            "Epoch 8/20\n",
            "3/3 [==============================] - 0s 23ms/step - loss: 0.0348 - val_loss: 0.0256\n",
            "Epoch 9/20\n",
            "3/3 [==============================] - 0s 24ms/step - loss: 0.0216 - val_loss: 0.0162\n",
            "Epoch 10/20\n",
            "3/3 [==============================] - 0s 23ms/step - loss: 0.0139 - val_loss: 0.0084\n",
            "Epoch 11/20\n",
            "3/3 [==============================] - 0s 30ms/step - loss: 0.0053 - val_loss: 0.0030\n",
            "Epoch 12/20\n",
            "3/3 [==============================] - 0s 23ms/step - loss: 0.0018 - val_loss: 0.0010\n",
            "Epoch 13/20\n",
            "3/3 [==============================] - 0s 24ms/step - loss: 0.0019 - val_loss: 0.0024\n",
            "Epoch 14/20\n",
            "3/3 [==============================] - 0s 26ms/step - loss: 0.0043 - val_loss: 0.0033\n",
            "Epoch 15/20\n",
            "3/3 [==============================] - 0s 25ms/step - loss: 0.0049 - val_loss: 0.0021\n",
            "Epoch 16/20\n",
            "3/3 [==============================] - 0s 25ms/step - loss: 0.0030 - val_loss: 9.3364e-04\n",
            "Epoch 17/20\n",
            "3/3 [==============================] - 0s 25ms/step - loss: 0.0014 - val_loss: 9.6766e-04\n",
            "Epoch 18/20\n",
            "3/3 [==============================] - 0s 24ms/step - loss: 7.8998e-04 - val_loss: 9.1579e-04\n",
            "Epoch 19/20\n",
            "3/3 [==============================] - 0s 24ms/step - loss: 4.8258e-04 - val_loss: 9.0982e-04\n",
            "Epoch 20/20\n",
            "3/3 [==============================] - 0s 25ms/step - loss: 6.0792e-04 - val_loss: 9.4005e-04\n"
          ],
          "name": "stdout"
        },
        {
          "output_type": "display_data",
          "data": {
            "image/png": "[encoded data removed]",
            "text/plain": [
              "<Figure size 432x288 with 1 Axes>"
            ]
          },
          "metadata": {
            "tags": [],
            "needs_background": "light"
          }
        }
      ]
    },
    {
      "cell_type": "markdown",
      "metadata": {
        "id": "xvF0Mluxq2ZK"
      },
      "source": [
        "# Визуализация результатов"
      ]
    },
    {
      "cell_type": "code",
      "metadata": {
        "id": "Aj-w55nIq1A3"
      },
      "source": [
        "#Функция рассчитываем результаты прогнозирования сети\n",
        "#В аргументы принимает сеть (currModel) и проверочную выборку\n",
        "#Выдаёт результаты предсказания predVal\n",
        "#И правильные ответы в исходной размерности yValUnscaled (какими они были до нормирования)\n",
        "def getPred(currModel, xVal, yVal, yScaler):\n",
        "  #Предсказываем ответ сети по проверочной выборке\n",
        "  #И возвращаем исходны масштаб данных, до нормализации\n",
        "  predVal = yScaler.inverse_transform(currModel.predict(xVal))\n",
        "  yValUnscaled = yScaler.inverse_transform(yVal)\n",
        "  \n",
        "  return (predVal, yValUnscaled)\n",
        "#Функция расёта корреляции дух одномерных векторов\n",
        "def correlate(a, b):\n",
        "  return np.corrcoef(a, b)[0, 1] \n",
        "#Функция визуализирует графики, что предсказала сеть и какие были правильные ответы\n",
        "#start - точка с которой начинаем отрисовку графика\n",
        "#step - длина графика, которую отрисовываем\n",
        "#channel - какой канал отрисовываем\n",
        "def showPredict(start, step, channel, predVal, yValUnscaled):\n",
        "  plt.plot(predVal[start:start+step, channel], \n",
        "           label='Прогноз')\n",
        "  plt.plot(yValUnscaled[start:start+step, channel], \n",
        "           label='Базовый ряд')\n",
        "  plt.xlabel('Время')\n",
        "  plt.ylabel('Значение Close')\n",
        "  plt.legend()\n",
        "  plt.show()\n",
        "  \n",
        "#Функция рисуем корреляцию прогнозированного сигнала с правильным\n",
        "#Смещая на различное количество шагов назад\n",
        "#Для проверки появления эффекта автокорреляции\n",
        "#channels - по каким каналам отображать корреляцию\n",
        "#corrSteps - на какое количество шагов смещать сигнал назад для рассчёта корреляции\n",
        "def showCorr(channels, corrSteps, predVal, yValUnscaled):\n",
        "  #Проходим по всем каналам\n",
        "  for ch in channels:\n",
        "    corr = [] #Создаём пустой лист, в нём будут корреляции при смезении на i рагов обратно\n",
        "    yLen = yValUnscaled.shape[0] #Запоминаем размер проверочной выборки\n",
        "    #Постепенно увеличикаем шаг, насколько смещаем сигнал для проверки автокорреляции\n",
        "    for i in range(corrSteps):\n",
        "      #Получаем сигнал, смещённый на i шагов назад\n",
        "      #predVal[i:, ch]\n",
        "      #Сравниваем его с верными ответами, без смещения назад\n",
        "      #yValUnscaled[:yLen-i,ch]\n",
        "      #Рассчитываем их корреляцию и добавляем в лист\n",
        "      corr.append(correlate(yValUnscaled[:yLen-i,ch], predVal[i:, ch]))\n",
        "    #Отображаем график коррелций для данного шага\n",
        "    plt.plot(corr, label='предсказание на ' + str(ch+1) + ' шаг')\n",
        "  plt.xlabel('Время')\n",
        "  plt.ylabel('Значение')\n",
        "  plt.legend()\n",
        "  plt.show()"
      ],
      "execution_count": 110,
      "outputs": []
    },
    {
      "cell_type": "code",
      "metadata": {
        "id": "g9M7RBxUq8d7"
      },
      "source": [
        "#Прогнозируем данные текущей сетью\n",
        "currModel = modelC\n",
        "(predVal, yValUnscaled) = getPred(currModel, xVal, yVal, yScaler)"
      ],
      "execution_count": 111,
      "outputs": []
    },
    {
      "cell_type": "code",
      "metadata": {
        "colab": {
          "base_uri": "https://localhost:8080/",
          "height": 265
        },
        "id": "aILSe4C0rGEj",
        "outputId": "f0a403bf-5c20-4023-f1e9-a13758907cea"
      },
      "source": [
        "import matplotlib\n",
        "matplotlib.style.use('ggplot')\n",
        "plt.scatter(predVal, yValUnscaled)\n",
        "plt.show()"
      ],
      "execution_count": 112,
      "outputs": [
        {
          "output_type": "display_data",
          "data": {
            "image/png": "[encoded data removed]",
            "text/plain": [
              "<Figure size 432x288 with 1 Axes>"
            ]
          },
          "metadata": {
            "tags": []
          }
        }
      ]
    }
  ]
}